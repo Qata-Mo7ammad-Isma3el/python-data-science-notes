{
 "cells": [
  {
   "cell_type": "markdown",
   "metadata": {},
   "source": [
    "[https://jakevdp.github.io/PythonDataScienceHandbook/02.06-boolean-arrays-and-masks.html\n",
    "](https://)"
   ]
  },
  {
   "cell_type": "code",
   "execution_count": 2,
   "metadata": {},
   "outputs": [
    {
     "data": {
      "text/plain": [
       "(366,)"
      ]
     },
     "execution_count": 2,
     "metadata": {},
     "output_type": "execute_result"
    }
   ],
   "source": [
    "import numpy as np\n",
    "import pandas as pd \n",
    "import seaborn; seaborn.set()\n",
    "from matplotlib import pyplot as plt \n",
    "#https://www.kaggle.com/datasets/rtatman/did-it-rain-in-seattle-19482017?resource=download\n",
    "#https://jakevdp.github.io/PythonDataScienceHandbook/02.06-boolean-arrays-and-masks.html\n",
    "\n",
    "df = pd.read_csv('seattleWeather_1948-2017.csv' , parse_dates=[0])[['DATE' , 'PRCP']]\n",
    "rainfall=df[df['DATE'].dt.year==2016]['PRCP'].values\n",
    "rainfall.shape"
   ]
  },
  {
   "cell_type": "code",
   "execution_count": 3,
   "metadata": {},
   "outputs": [
    {
     "data": {
      "image/png": "[encoded data removed]",
      "text/plain": [
       "<Figure size 640x480 with 1 Axes>"
      ]
     },
     "metadata": {},
     "output_type": "display_data"
    }
   ],
   "source": [
    "# this histogram shows the Frequency of data \n",
    "# Rainfall rate per day\n",
    "plt.hist(rainfall , bins=30)\n",
    "plt.title('Rainfall')\n",
    "plt.xlabel('PRCP')\n",
    "plt.ylabel('Frequency')\n",
    "plt.show()"
   ]
  },
  {
   "cell_type": "markdown",
   "metadata": {},
   "source": [
    "#### **out jop here is to find useful information's from this data** "
   ]
  },
  {
   "cell_type": "markdown",
   "metadata": {},
   "source": [
    "\n",
    "#### Some questions we need to solve:\n",
    "1) How many rainy days were there in the year?\n",
    "2) What is the average precipitation on those rainy days?\n",
    "3) How many days were there with more than half an inch of rain?\n",
    ".\n",
    ".\n",
    "."
   ]
  },
  {
   "cell_type": "markdown",
   "metadata": {},
   "source": [
    "#### lets simplify it working with boolean arrays "
   ]
  },
  {
   "cell_type": "code",
   "execution_count": 4,
   "metadata": {},
   "outputs": [
    {
     "name": "stdout",
     "output_type": "stream",
     "text": [
      "array < 3: [ True  True False False False]\n",
      "array <= 3: [ True  True  True False False]\n",
      "array > 3: [False False False  True  True]\n",
      "array >= 3: [False False  True  True  True]\n",
      "array == 3: [False False  True False False]\n",
      "array != 3: [ True  True False  True  True]\n",
      "2*array == array**2: [False  True False False False]\n"
     ]
    }
   ],
   "source": [
    "array=np.array([1 , 2 , 3 , 4, 5])\n",
    "print('array < 3:', array<3) # np.less(array , 3)\n",
    "print('array <= 3:', array<=3) # np.less_equal(array , 3)\n",
    "print('array > 3:', array>3) # np.greater(array , 3)\n",
    "print('array >= 3:', array>=3) # np.greater_equal(array , 3)\n",
    "print('array == 3:', array==3) # np.equal(array , 3)\n",
    "print('array != 3:', array!=3) # np.not_equal(array , 3)\n",
    "print('2*array == array**2:' , 2*array == array**2) #print(np.equal(np.multiply(array , 2) , np.power(array , 2)))"
   ]
  },
  {
   "cell_type": "code",
   "execution_count": 5,
   "metadata": {},
   "outputs": [
    {
     "name": "stdout",
     "output_type": "stream",
     "text": [
      "[[6 3 7 4]\n",
      " [6 9 2 6]\n",
      " [7 4 3 7]]\n",
      "array < 6:\n",
      " [[False  True False  True]\n",
      " [False False  True False]\n",
      " [False  True  True False]]\n",
      "array <= 6:\n",
      " [[ True  True False  True]\n",
      " [ True False  True  True]\n",
      " [False  True  True False]]\n",
      "array > 6:\n",
      " [[False False  True False]\n",
      " [False  True False False]\n",
      " [ True False False  True]]\n",
      "array >= 6:\n",
      " [[ True False  True False]\n",
      " [ True  True False  True]\n",
      " [ True False False  True]]\n",
      "array == 6:\n",
      " [[ True False False False]\n",
      " [ True False False  True]\n",
      " [False False False False]]\n",
      "array != 6:\n",
      " [[False  True  True  True]\n",
      " [False  True  True False]\n",
      " [ True  True  True  True]]\n",
      "\n",
      "#of True values: 3\n",
      "#of True values: 3\n",
      "#of True values along rows: [1 0 1 1]\n",
      "#of True values along columns: [1 0 2]\n"
     ]
    }
   ],
   "source": [
    "# this line of code important because it will give you a random array for one time\n",
    "# and dose not change from the first time it has been generated \n",
    "np.random.seed(42)  \n",
    "array=np.random.randint(10 , size=(3 , 4))\n",
    "print(array)\n",
    "print('array < 6:\\n', array<6) # np.less(array , 6)\n",
    "print('array <= 6:\\n', array<=6) # np.less_equal(array , 6)\n",
    "print('array > 6:\\n', array>6) # np.greater(array , 6)\n",
    "print('array >= 6:\\n', array>=6) # np.greater_equal(array , 6)\n",
    "print('array == 6:\\n', array==6) # np.equal(array , 6)\n",
    "print('array != 6:\\n', array!=6 , end='\\n\\n') # np.not_equal(array , 6)\n",
    "\n",
    "# Recap: True = 1 , False =0 \n",
    "# Recap: axis=0 we are working along rows\n",
    "# Recap: axis=1 we are working along columns\n",
    "\n",
    "# some functions to work with \n",
    "# this function will return how many not zero numbers in the array\n",
    "# you can pass a boolean array and this function will return how many True values you have in the array   \n",
    "print('#of True values:' , np.count_nonzero(array==7))\n",
    "print('#of True values:' , np.sum(array==7)) # it is easy to understand why sum is equivalent to count_nonzero\n",
    "print('#of True values along rows:' , np.sum(array==7 , axis=0)) \n",
    "print('#of True values along columns:' , np.sum(array==7 , axis=1)) "
   ]
  },
  {
   "cell_type": "markdown",
   "metadata": {},
   "source": [
    "#### **Questions to solve:**\n",
    "1) Find the number of days without rain. \n",
    "2) Find the number days with rain.\n",
    "3) Find the number days with more than 0.5 inches.\n",
    "4) Find the rainy days with < 0.1 inches."
   ]
  },
  {
   "cell_type": "code",
   "execution_count": 6,
   "metadata": {},
   "outputs": [
    {
     "name": "stdout",
     "output_type": "stream",
     "text": [
      "366\n",
      "the number of days without rain: 194\n",
      "the number days with rain: 172\n",
      "the number days with more than 0.5 inches: 26\n",
      "the rainy days with < 0.1 inches: 250\n"
     ]
    }
   ],
   "source": [
    "print(rainfall.size)\n",
    "# 1)Find the number of days without rain.\n",
    "print('the number of days without rain:' , np.count_nonzero(rainfall==0))\n",
    "# 2)Find the number days with rain.\n",
    "print('the number days with rain:' , np.count_nonzero(rainfall>0))\n",
    "# 3)Find the number days with more than 0.5 inches.\n",
    "print('the number days with more than 0.5 inches:' , np.count_nonzero(rainfall>0.5))\n",
    "# 4)Find the rainy days with < 0.1 inches.\n",
    "print('the rainy days with < 0.1 inches:' , np.count_nonzero(rainfall<0.1))\n"
   ]
  },
  {
   "cell_type": "markdown",
   "metadata": {},
   "source": [
    "### **some operators**\n",
    "\n",
    "![alt text](pictures/bitwise_opertors.png)"
   ]
  },
  {
   "cell_type": "markdown",
   "metadata": {},
   "source": [
    "### **Boolean Arrays As Marks**"
   ]
  },
  {
   "cell_type": "code",
   "execution_count": 7,
   "metadata": {},
   "outputs": [
    {
     "name": "stdout",
     "output_type": "stream",
     "text": [
      "array:\n",
      " [[7 8 5 7]\n",
      " [5 1 6 0]\n",
      " [3 8 7 1]]\n",
      "array < 6:\n",
      " [[False False  True False]\n",
      " [ True  True False  True]\n",
      " [ True False False  True]]\n",
      "elements < 6: [5 5 1 0 3 1]\n",
      "array <= 6:\n",
      " [[False False  True False]\n",
      " [ True  True  True  True]\n",
      " [ True False False  True]]\n",
      "elements <= 6: [5 5 1 6 0 3 1]\n",
      "array > 6:\n",
      " [[ True  True False  True]\n",
      " [False False False False]\n",
      " [False  True  True False]]\n",
      "elements > 6: [7 8 7 8 7]\n",
      "array >= 6:\n",
      " [[ True  True False  True]\n",
      " [False False  True False]\n",
      " [False  True  True False]]\n",
      "elements >= 6: [7 8 7 6 8 7]\n",
      "array == 6:\n",
      " [[False False False False]\n",
      " [False False  True False]\n",
      " [False False False False]]\n",
      "elements == 6: [6]\n",
      "array != 6:\n",
      " [[ True  True  True  True]\n",
      " [ True  True False  True]\n",
      " [ True  True  True  True]]\n",
      "\n",
      "elements != 6: [7 8 5 7 5 1 0 3 8 7 1]\n"
     ]
    }
   ],
   "source": [
    "np.random.seed(55)\n",
    "array=np.random.randint(10 , size=(3 , 4))\n",
    "print('array:\\n', array)\n",
    "\n",
    "#Note: The mask should be of the same size of the original array\n",
    "print('array < 6:\\n', array<6) # np.less(array , 6)\n",
    "print('elements < 6:' , array[array<6])\n",
    "\n",
    "print('array <= 6:\\n', array<=6) # np.less_equal(array , 6)\n",
    "print('elements <= 6:' , array[array<=6])\n",
    "\n",
    "print('array > 6:\\n', array>6) # np.greater(array , 6)\n",
    "print('elements > 6:' , array[array>6])\n",
    "\n",
    "print('array >= 6:\\n', array>=6) # np.greater_equal(array , 6)\n",
    "print('elements >= 6:' , array[array>=6])\n",
    "\n",
    "print('array == 6:\\n', array==6) # np.equal(array , 6)\n",
    "print('elements == 6:' , array[array==6])\n",
    "\n",
    "print('array != 6:\\n', array!=6 , end='\\n\\n') # np.not_equal(array , 6)\n",
    "print('elements != 6:' , array[array!=6])"
   ]
  },
  {
   "cell_type": "markdown",
   "metadata": {},
   "source": [
    "### **Extract summer days**\n",
    "**info:Summer starts on the 172th day of the year and lasts for 90 days.**\n",
    "1) Find the mean of precipitation of rainy days.\n",
    "2) Find the maximimum precipitation on summer days.\n",
    "3) Find the median precipitation on rainy and non-summer days.\n",
    "4) Find the mean precipitation on fall rainy days."
   ]
  },
  {
   "cell_type": "code",
   "execution_count": 17,
   "metadata": {},
   "outputs": [
    {
     "name": "stdout",
     "output_type": "stream",
     "text": [
      "mean of rainy days: 0.2626744186046512\n",
      "the maximum precipitation on summer days: 0.42\n",
      "the median precipitation on rainy and non-summer days: 0.17\n",
      "the mean precipitation on fall rainy days: 0.30830508474576274\n"
     ]
    }
   ],
   "source": [
    "days = np.arange(366)\n",
    "summer = (days>172) & (days < 262)\n",
    "fall =   (days > 262) & (days < 352)\n",
    "# 1)Find the mean of precipitation of rainy days.\n",
    "print('mean of rainy days:' ,  np.mean(rainfall[rainfall>0]))\n",
    "\n",
    "# 2)Find the maximum precipitation on summer days.\n",
    "print('the maximum precipitation on summer days:' , np.max(rainfall[summer]))\n",
    "\n",
    "# 3)Find the median precipitation on rainy and non-summer days.\n",
    "print('the median precipitation on rainy and non-summer days:' , np.median(rainfall[(~summer) & (rainfall > 0)]))\n",
    "\n",
    "# 4)Find the mean precipitation on fall rainy days.\n",
    "print('the mean precipitation on fall rainy days:' , np.mean((rainfall[(fall) & (rainfall>0)] )))"
   ]
  }
 ],
 "metadata": {
  "kernelspec": {
   "display_name": "Python 3",
   "language": "python",
   "name": "python3"
  },
  "language_info": {
   "codemirror_mode": {
    "name": "ipython",
    "version": 3
   },
   "file_extension": ".py",
   "mimetype": "text/x-python",
   "name": "python",
   "nbconvert_exporter": "python",
   "pygments_lexer": "ipython3",
   "version": "3.12.3"
  }
 },
 "nbformat": 4,
 "nbformat_minor": 2
}
