{
 "cells": [
  {
   "cell_type": "markdown",
   "metadata": {},
   "source": [
    "[https://jakevdp.github.io/PythonDataScienceHandbook/02.02-the-basics-of-numpy-arrays.html](https://)\n"
   ]
  },
  {
   "cell_type": "code",
   "execution_count": 5,
   "metadata": {},
   "outputs": [
    {
     "name": "stdout",
     "output_type": "stream",
     "text": [
      "[[0 0 0 0]\n",
      " [0 0 0 0]\n",
      " [0 0 0 0]]\n",
      "array dimensions:2\n",
      "array shape:(3, 4)\n",
      "array size:12\n"
     ]
    }
   ],
   "source": [
    "import numpy as np\n",
    "#lets first create an array \n",
    "array=np.zeros((3 , 4) , dtype=int)\n",
    "print(array)\n",
    "\n",
    "# some important attributes to get informations about our array\n",
    "print(f'array dimensions:{array.ndim}') # dimensions of the array\n",
    "print(f'array shape:{array.shape}') # shape (rows , columns) or the array\n",
    "print(f'array size:{array.size}') # number or elements in the array\n"
   ]
  },
  {
   "cell_type": "code",
   "execution_count": 19,
   "metadata": {},
   "outputs": [
    {
     "name": "stdout",
     "output_type": "stream",
     "text": [
      "[[ 1  2  3  4]\n",
      " [ 5  6  7  8]\n",
      " [ 9 10 11 12]]\n",
      "array dimensions:2\n",
      "array shape:(3, 4)\n",
      "array size:12\n",
      "********************\n",
      "1\n"
     ]
    }
   ],
   "source": [
    "#array indexing \n",
    "array=np.array([[1 , 2 , 3 , 4] , [5 , 6, 7 , 8] , [9 , 10 , 11 , 12]])\n",
    "print(array)\n",
    "print(f'array dimensions:{array.ndim}') \n",
    "print(f'array shape:{array.shape}')\n",
    "print(f'array size:{array.size}') \n",
    "print('*' * 20)\n",
    "\n",
    "#indexing in the arrays start from 0\n",
    "print(array[0][0]) # you can also use array[0 , 0] and it is the same shit"
   ]
  }
 ],
 "metadata": {
  "kernelspec": {
   "display_name": "Python 3",
   "language": "python",
   "name": "python3"
  },
  "language_info": {
   "codemirror_mode": {
    "name": "ipython",
    "version": 3
   },
   "file_extension": ".py",
   "mimetype": "text/x-python",
   "name": "python",
   "nbconvert_exporter": "python",
   "pygments_lexer": "ipython3",
   "version": "3.12.3"
  }
 },
 "nbformat": 4,
 "nbformat_minor": 2
}
