{
 "cells": [
  {
   "cell_type": "markdown",
   "metadata": {},
   "source": [
    "[https://jakevdp.github.io/PythonDataScienceHandbook/02.02-the-basics-of-numpy-arrays.html\n",
    "](https://)"
   ]
  },
  {
   "cell_type": "code",
   "execution_count": 7,
   "metadata": {},
   "outputs": [
    {
     "name": "stdout",
     "output_type": "stream",
     "text": [
      "array x: [1 2 3]\n",
      "array y: [4 5 6]\n",
      "array x concatenated with y: [1 2 3 4 5 6]\n",
      "array x and concatenated with list z: [ 1  2  3  4  5  6 99 99 99]\n"
     ]
    }
   ],
   "source": [
    "import numpy as np\n",
    "\n",
    "# Array concatenation in 1D array \n",
    "x=np.array([1 , 2, 3])\n",
    "y=np.array([4 , 5, 6])\n",
    "print('array x:' , x)\n",
    "print('array y:' , y)\n",
    "print('array x concatenated with y:', np.concatenate([x , y]))\n",
    "z=[99 , 99 , 99] # python list \n",
    "print('array x and concatenated with list z:', np.concatenate([x , y , z]))\n"
   ]
  },
  {
   "cell_type": "code",
   "execution_count": 23,
   "metadata": {},
   "outputs": [
    {
     "name": "stdout",
     "output_type": "stream",
     "text": [
      "array x:\n",
      " [[1 1 1]\n",
      " [1 1 1]]\n",
      "\n",
      "array y:\n",
      " [[9 9 9]\n",
      " [9 9 9]]\n",
      "\n",
      "along Rows:(2, 3) + (2, 3) = (4 , 3)\n",
      "along Rows:\n",
      " [[1 1 1]\n",
      " [1 1 1]\n",
      " [9 9 9]\n",
      " [9 9 9]]\n",
      "\n",
      "along columns:(2, 3) + (2, 3) = (2 , 6)\n",
      "along columns:\n",
      " [[1 1 1 9 9 9]\n",
      " [1 1 1 9 9 9]]\n",
      "\n"
     ]
    }
   ],
   "source": [
    "# Array concatenation in 2D array\n",
    "\n",
    "x=np.full((2 , 3) , 1)\n",
    "y=np.full((2 , 3) , 9)\n",
    "\n",
    "print('array x:\\n', x , end='\\n\\n')\n",
    "print('array y:\\n', y , end='\\n\\n')\n",
    "\n",
    "# to concatenate arrays in 2D you have to use axis parameter to specify exactly how to concatenate your arrays\n",
    "# axis = 0 that mean you want to concatenate along the Rows \n",
    "# axis = 1 that mean you want to concatenate along the columns \n",
    "\n",
    "print(f'along Rows:{x.shape} + {y.shape} = (4 , 3)')\n",
    "print('along Rows:\\n' , np.concatenate([x , y] , axis=0) ,end='\\n\\n')\n",
    "\n",
    "print(f'along columns:{x.shape} + {y.shape} = (2 , 6)')\n",
    "print('along columns:\\n' , np.concatenate([x , y] , axis=1) ,end='\\n\\n')\n",
    "\n",
    "# note that if you want to concatenate along rows the two arrays must have the same number columns\n",
    "# note that if you want to concatenate along columns the two arrays must have the same number rows"
   ]
  },
  {
   "cell_type": "code",
   "execution_count": 30,
   "metadata": {},
   "outputs": [
    {
     "name": "stdout",
     "output_type": "stream",
     "text": [
      "x dimensions: 1\n",
      "x shape: (3,)\n",
      "y dimensions: 2\n",
      "y shape: (2, 3)\n",
      "x dimensions after reshape: 2\n",
      "x shape after reshape: (1, 3)\n",
      "[[1 2 3]\n",
      " [1 2 3]\n",
      " [4 5 6]]\n"
     ]
    }
   ],
   "source": [
    "x=np.array([1 , 2, 3])\n",
    "y=np.array([[1 , 2 ,3] , [4 , 5, 6]])\n",
    "# as you can see x is 1D array and y is 2D array so the concatenate method can't concatenate them \n",
    "# you want to reshape the x array and change it to 2D array \n",
    "print('x dimensions:', x.ndim)\n",
    "print('x shape:', x.shape)\n",
    "print('y dimensions:', y.ndim)\n",
    "print('y shape:', y.shape)\n",
    "x=x.reshape((1 , 3))\n",
    "print('x dimensions after reshape:', x.ndim)\n",
    "print('x shape after reshape:', x.shape)\n",
    "\n",
    "print(np.concatenate([x , y] , axis=0))\n"
   ]
  },
  {
   "cell_type": "code",
   "execution_count": 31,
   "metadata": {},
   "outputs": [
    {
     "name": "stdout",
     "output_type": "stream",
     "text": [
      "[[1 2 3]\n",
      " [1 2 3]\n",
      " [4 5 6]]\n"
     ]
    }
   ],
   "source": [
    "# alternative way vertical stack\n",
    "x=np.array([1 , 2, 3])\n",
    "y=np.array([[1 , 2 ,3] , [4 , 5, 6]])\n",
    "print(np.vstack([x , y]))"
   ]
  },
  {
   "cell_type": "code",
   "execution_count": 32,
   "metadata": {},
   "outputs": [
    {
     "name": "stdout",
     "output_type": "stream",
     "text": [
      "[[99  1  2  3]\n",
      " [99  4  5  6]]\n"
     ]
    }
   ],
   "source": [
    "# alternative way vertical stack\n",
    "x=np.array([[99],\n",
    "            [99]])\n",
    "y=np.array([[1 , 2 ,3] , [4 , 5, 6]])\n",
    "print(np.hstack([x , y]))"
   ]
  }
 ],
 "metadata": {
  "kernelspec": {
   "display_name": "Python 3",
   "language": "python",
   "name": "python3"
  },
  "language_info": {
   "codemirror_mode": {
    "name": "ipython",
    "version": 3
   },
   "file_extension": ".py",
   "mimetype": "text/x-python",
   "name": "python",
   "nbconvert_exporter": "python",
   "pygments_lexer": "ipython3",
   "version": "3.12.3"
  }
 },
 "nbformat": 4,
 "nbformat_minor": 2
}
