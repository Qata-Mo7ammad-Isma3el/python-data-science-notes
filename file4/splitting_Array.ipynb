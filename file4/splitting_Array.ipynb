{
 "cells": [
  {
   "cell_type": "code",
   "execution_count": 6,
   "metadata": {},
   "outputs": [
    {
     "name": "stdout",
     "output_type": "stream",
     "text": [
      "[ 0  1  2  3  4  5  6  7  8  9 10 11]\n",
      "x1: [0 1 2 3]\n",
      "x2: [4 5 6 7]\n",
      "x3: [ 8  9 10 11]\n"
     ]
    }
   ],
   "source": [
    "import numpy as np\n",
    "# splitting an array is easy using split method \n",
    "# split a 1D array\n",
    "\n",
    "array=np.arange(0 , 12)\n",
    "print(array)\n",
    "x1,x2,x3=np.split(array , [4 , 8]) # N splits will lead to N+1 sub array\n",
    "print('x1:', x1)\n",
    "print('x2:', x2)\n",
    "print('x3:', x3)\n",
    "# split method in 1D work with the indexes \n",
    "# np.split(array , [N , M])\n",
    "# it starts with 0 until it reach N-1 thats the first cut \n",
    "# the second cut will be from N to M-1\n",
    "# the third cut will start from M to the end of the array \n",
    "# no need to specify start pint 0 , by default  it is 0 \n"
   ]
  },
  {
   "cell_type": "code",
   "execution_count": 19,
   "metadata": {},
   "outputs": [
    {
     "name": "stdout",
     "output_type": "stream",
     "text": [
      "array:\n",
      " [[ 0  1  2  3]\n",
      " [ 4  5  6  7]\n",
      " [ 8  9 10 11]\n",
      " [12 13 14 15]]\n",
      "\n",
      "vertical split:\n",
      "upper sub array:\n",
      " [[0 1 2 3]\n",
      " [4 5 6 7]]\n",
      "lower sub array:\n",
      " [[ 8  9 10 11]\n",
      " [12 13 14 15]]\n",
      "\n",
      "horizontal split:\n",
      "right sub array:\n",
      " [[ 0  1]\n",
      " [ 4  5]\n",
      " [ 8  9]\n",
      " [12 13]]\n",
      "left sub array:\n",
      " [[ 2  3]\n",
      " [ 6  7]\n",
      " [10 11]\n",
      " [14 15]]\n"
     ]
    }
   ],
   "source": [
    "# split a 2D array\n",
    "array = np.arange(0 , 16).reshape(4 , 4)\n",
    "print( 'array:\\n', array , end='\\n\\n')\n",
    "\n",
    "# there are two ways to split 2D array \n",
    "\n",
    "# vertical split (along rows)\n",
    "# np.split(array , [N , M])\n",
    "# it starts with 0 until it reach N-1 thats the first cut \n",
    "# the second cut will be from N to M-1\n",
    "# the third cut will start from M to the end of the array \n",
    "# no need to specify start pint 0 , by default  it is 0 \n",
    "print('vertical split:')\n",
    "upper , lower = np.vsplit(array , [2])\n",
    "print('upper sub array:\\n',   upper  )\n",
    "print('lower sub array:\\n',   lower  , end='\\n\\n')\n",
    "\n",
    "# horizontal split (along columns)\n",
    "print('horizontal split:')\n",
    "right , left = np.hsplit(array , [ 2 ]) \n",
    "print('right sub array:\\n',  right )\n",
    "print('left sub array:\\n',  left)\n"
   ]
  }
 ],
 "metadata": {
  "kernelspec": {
   "display_name": "Python 3",
   "language": "python",
   "name": "python3"
  },
  "language_info": {
   "codemirror_mode": {
    "name": "ipython",
    "version": 3
   },
   "file_extension": ".py",
   "mimetype": "text/x-python",
   "name": "python",
   "nbconvert_exporter": "python",
   "pygments_lexer": "ipython3",
   "version": "3.12.3"
  }
 },
 "nbformat": 4,
 "nbformat_minor": 2
}
