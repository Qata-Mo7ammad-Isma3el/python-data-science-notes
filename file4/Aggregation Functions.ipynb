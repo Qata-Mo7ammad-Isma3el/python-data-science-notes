{
 "cells": [
  {
   "cell_type": "markdown",
   "metadata": {},
   "source": [
    "[https://jakevdp.github.io/PythonDataScienceHandbook/02.04-computation-on-arrays-aggregates.html\n",
    "](https://)"
   ]
  },
  {
   "cell_type": "code",
   "execution_count": 16,
   "metadata": {},
   "outputs": [
    {
     "name": "stdout",
     "output_type": "stream",
     "text": [
      "45\n"
     ]
    }
   ],
   "source": [
    "import numpy as np\n",
    "# https://www.kaggle.com/code/orhansertkaya/numpy-tutorial-for-beginners#Aggregations:-Min,-Max,-and-Everything-in-Between\n",
    "# sum with 1D \n",
    "array=np.arange(10)\n",
    "print(np.sum(array))"
   ]
  },
  {
   "cell_type": "code",
   "execution_count": 19,
   "metadata": {},
   "outputs": [
    {
     "name": "stdout",
     "output_type": "stream",
     "text": [
      "array:\n",
      " [[ 0  1  2  3  4  5  6  7  8  9]\n",
      " [10 11 12 13 14 15 16 17 18 19]\n",
      " [20 21 22 23 24 25 26 27 28 29]\n",
      " [30 31 32 33 34 35 36 37 38 39]\n",
      " [40 41 42 43 44 45 46 47 48 49]\n",
      " [50 51 52 53 54 55 56 57 58 59]\n",
      " [60 61 62 63 64 65 66 67 68 69]\n",
      " [70 71 72 73 74 75 76 77 78 79]\n",
      " [80 81 82 83 84 85 86 87 88 89]\n",
      " [90 91 92 93 94 95 96 97 98 99]]\n",
      "\n",
      "sum of rows: [450 460 470 480 490 500 510 520 530 540]\n",
      "sum of columns: [ 45 145 245 345 445 545 645 745 845 945]\n"
     ]
    }
   ],
   "source": [
    "\n",
    "# sum with 2D\n",
    "array = np.arange(0 , 100).reshape(10 , 10)\n",
    "print( 'array:\\n', array , end='\\n\\n')\n",
    "\n",
    "print('sum of rows:',np.sum(array , axis=0)) # axis=0 will sum along rows  \n",
    "print( 'sum of columns:', np.sum(array , axis=1 , keepdims=True)) # axis=1 will sum along columns\n",
    "\n",
    "# keepdims have a default value False \n",
    "# and as it name suggests this parameter assigned to True will keep the dimensions of the array as it is\n"
   ]
  },
  {
   "cell_type": "code",
   "execution_count": 18,
   "metadata": {},
   "outputs": [
    {
     "name": "stdout",
     "output_type": "stream",
     "text": [
      "maximum: 99\n",
      "minimum: 0\n"
     ]
    }
   ],
   "source": [
    "# minimum and maximum \n",
    "print('maximum:',np.max(array))\n",
    "print('minimum:' ,np.min(array))"
   ]
  },
  {
   "cell_type": "markdown",
   "metadata": {},
   "source": [
    "![alt text](<pictures/Aggregation Functions .PNG>)"
   ]
  }
 ],
 "metadata": {
  "kernelspec": {
   "display_name": "Python 3",
   "language": "python",
   "name": "python3"
  },
  "language_info": {
   "codemirror_mode": {
    "name": "ipython",
    "version": 3
   },
   "file_extension": ".py",
   "mimetype": "text/x-python",
   "name": "python",
   "nbconvert_exporter": "python",
   "pygments_lexer": "ipython3",
   "version": "3.12.3"
  }
 },
 "nbformat": 4,
 "nbformat_minor": 2
}
