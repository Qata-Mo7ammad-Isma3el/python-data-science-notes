{
 "cells": [
  {
   "cell_type": "markdown",
   "metadata": {},
   "source": [
    "[https://jakevdp.github.io/PythonDataScienceHandbook/02.02-the-basics-of-numpy-arrays.html\n",
    "](https://)"
   ]
  },
  {
   "cell_type": "code",
   "execution_count": 3,
   "metadata": {},
   "outputs": [],
   "source": [
    "import numpy as np\n",
    "\n",
    "# array reshape \n",
    "\n",
    "# lets consider this array \n",
    "\n",
    "# [0, 1, 2, 3, 4, 5, 6, 7, 8, ,9, 10 , 11] with 12 elements \n",
    "\n",
    "# you can reshape it to \n",
    "\n",
    "# [[0, 1, 2, 3]\n",
    "# [4, 5, 6, 7]\n",
    "# [8, 9, 10, 11]]\n",
    "\n",
    "# or \n",
    "\n",
    "# [[0, 1, 2]\n",
    "# [3, 4, 5]\n",
    "# [6, 7, 8]\n",
    "# [9, 10, 11]]\n"
   ]
  },
  {
   "cell_type": "code",
   "execution_count": 18,
   "metadata": {},
   "outputs": [
    {
     "name": "stdout",
     "output_type": "stream",
     "text": [
      "[ 0  1  2  3  4  5  6  7  8  9 10 11]\n",
      "*************************************\n",
      "[[ 0  1  2  3]\n",
      " [ 4  5  6  7]\n",
      " [ 8  9 10 11]]\n",
      "*************************************\n",
      "[[ 0  1  2  3]\n",
      " [ 4  5  6  7]\n",
      " [ 8  9 10 11]]\n"
     ]
    }
   ],
   "source": [
    "array = np.arange(0 , 12)\n",
    "print(array)\n",
    "\n",
    "#lets reshape it \n",
    "print('*'*37)\n",
    "reshaped_array=array.reshape((3 , 4))\n",
    "print(reshaped_array)\n",
    "\n",
    "#-----------------------------------------------\n",
    "print('*'*37)\n",
    "#alternative way \n",
    "array = np.arange(0 , 12).reshape((3 , 4))\n",
    "print(array)\n"
   ]
  },
  {
   "cell_type": "code",
   "execution_count": 33,
   "metadata": {},
   "outputs": [
    {
     "name": "stdout",
     "output_type": "stream",
     "text": [
      "array size: 100\n",
      "[[ 0  1  2  3  4  5  6  7  8  9]\n",
      " [10 11 12 13 14 15 16 17 18 19]\n",
      " [20 21 22 23 24 25 26 27 28 29]\n",
      " [30 31 32 33 34 35 36 37 38 39]\n",
      " [40 41 42 43 44 45 46 47 48 49]\n",
      " [50 51 52 53 54 55 56 57 58 59]\n",
      " [60 61 62 63 64 65 66 67 68 69]\n",
      " [70 71 72 73 74 75 76 77 78 79]\n",
      " [80 81 82 83 84 85 86 87 88 89]\n",
      " [90 91 92 93 94 95 96 97 98 99]]\n"
     ]
    }
   ],
   "source": [
    "# you must take in to consideration the size of the array before you reshape it \n",
    "\n",
    "\n",
    "array=np.arange(0 , 100).reshape((10 , 10))\n",
    "print(\"array size:\" , array.size) # you can Reshape it with 10x10 array that contain 100 element \n",
    "print(array)"
   ]
  },
  {
   "cell_type": "code",
   "execution_count": 31,
   "metadata": {},
   "outputs": [
    {
     "name": "stdout",
     "output_type": "stream",
     "text": [
      "(3,)\n",
      "1\n",
      "********************\n",
      "(1, 3)\n",
      "2\n",
      "********************\n",
      "(3, 1)\n",
      "2\n"
     ]
    }
   ],
   "source": [
    "# row vector \n",
    "array=np.array([1 , 2, 3])\n",
    "print(array.shape) # and this is an array with one row that contain 3 elements\n",
    "print(array.ndim)\n",
    "print('*'*20)\n",
    "# to get a row vector just do the following\n",
    "print(array.reshape((1 , 3)).shape)\n",
    "print(array.reshape((3 , 1)).ndim)\n",
    "print('*'*20)\n",
    "# to get a columns vector just do the following\n",
    "print(array.reshape((3 , 1)).shape)\n",
    "print(array.reshape((3 , 1)).ndim)\n",
    "\n"
   ]
  }
 ],
 "metadata": {
  "kernelspec": {
   "display_name": "Python 3",
   "language": "python",
   "name": "python3"
  },
  "language_info": {
   "codemirror_mode": {
    "name": "ipython",
    "version": 3
   },
   "file_extension": ".py",
   "mimetype": "text/x-python",
   "name": "python",
   "nbconvert_exporter": "python",
   "pygments_lexer": "ipython3",
   "version": "3.12.3"
  }
 },
 "nbformat": 4,
 "nbformat_minor": 2
}
