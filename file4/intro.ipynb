{
 "cells": [
  {
   "cell_type": "markdown",
   "metadata": {},
   "source": [
    "[https://jakevdp.github.io/PythonDataScienceHandbook/02.01-understanding-data-types.html](https://)"
   ]
  },
  {
   "cell_type": "code",
   "execution_count": 23,
   "metadata": {},
   "outputs": [
    {
     "name": "stdout",
     "output_type": "stream",
     "text": [
      "[1 2 3 4]\n"
     ]
    }
   ],
   "source": [
    "import numpy as np\n",
    "\n",
    "# Creating numpy array from python list\n",
    "# in numpy array the array can't handel more than one data type \n",
    "array=np.array([1 , 2 , 3 , 4])\n",
    "print(array)\n"
   ]
  },
  {
   "cell_type": "code",
   "execution_count": 24,
   "metadata": {},
   "outputs": [
    {
     "name": "stdout",
     "output_type": "stream",
     "text": [
      "[1.  2.  3.  4.4]\n"
     ]
    }
   ],
   "source": [
    "array=np.array([1 , 2 , 3 , 4.4])\n",
    "print(array) \n",
    "# as you can see numpy change the data type for each element of the array\n",
    "  "
   ]
  },
  {
   "cell_type": "code",
   "execution_count": 25,
   "metadata": {},
   "outputs": [
    {
     "name": "stdout",
     "output_type": "stream",
     "text": [
      "[1 2 3 4]\n"
     ]
    }
   ],
   "source": [
    "# and you can explicitly define your data type by using dtype= parameter \n",
    "array=np.array([1 , 2 , 3 , 4.4] , dtype='int64')\n",
    "print(array) \n"
   ]
  },
  {
   "cell_type": "code",
   "execution_count": 26,
   "metadata": {},
   "outputs": [
    {
     "name": "stdout",
     "output_type": "stream",
     "text": [
      "[0 0 0 0 0 0 0 0 0 0]\n"
     ]
    }
   ],
   "source": [
    "# Creating numpy array from scratch zeros method \n",
    "\n",
    "array=np.zeros(10 , dtype=int)\n",
    "print(array)"
   ]
  },
  {
   "cell_type": "code",
   "execution_count": 27,
   "metadata": {},
   "outputs": [
    {
     "name": "stdout",
     "output_type": "stream",
     "text": [
      "[[1 1 1 1 1]\n",
      " [1 1 1 1 1]\n",
      " [1 1 1 1 1]]\n"
     ]
    }
   ],
   "source": [
    "# ones method \n",
    "#         (rows , columns)\n",
    "array=np.ones((3 , 5) , dtype=int)\n",
    "print(array)"
   ]
  },
  {
   "cell_type": "code",
   "execution_count": 35,
   "metadata": {},
   "outputs": [
    {
     "name": "stdout",
     "output_type": "stream",
     "text": [
      "[[9.9 9.9 9.9 9.9 9.9]\n",
      " [9.9 9.9 9.9 9.9 9.9]\n",
      " [9.9 9.9 9.9 9.9 9.9]]\n"
     ]
    }
   ],
   "source": [
    "# you can also create array filled in whatever you wish using full method \n",
    "\n",
    "array=np.full((3 , 5) , 9.9)\n",
    "print(array)"
   ]
  },
  {
   "cell_type": "code",
   "execution_count": 41,
   "metadata": {},
   "outputs": [
    {
     "name": "stdout",
     "output_type": "stream",
     "text": [
      "[0 1 2 3 4 5 6 7 8 9]\n"
     ]
    }
   ],
   "source": [
    "# creating array with filled with a linear sequence\n",
    "array=np.arange(0 , 10)# The ending is excluded\n",
    "print(array)"
   ]
  },
  {
   "cell_type": "code",
   "execution_count": 43,
   "metadata": {},
   "outputs": [
    {
     "name": "stdout",
     "output_type": "stream",
     "text": [
      "[ 0  2  4  6  8 10 12 14 16 18]\n"
     ]
    }
   ],
   "source": [
    "# stating with 0 , ending at 20 , stepping by 2\n",
    "array=np.arange(0 , 20 , 2) # The ending is excluded\n",
    "print(array) "
   ]
  },
  {
   "cell_type": "code",
   "execution_count": 44,
   "metadata": {},
   "outputs": [
    {
     "name": "stdout",
     "output_type": "stream",
     "text": [
      "[[0.9959571  0.17528743 0.77648719]\n",
      " [0.97136783 0.64663249 0.13553579]\n",
      " [0.59901174 0.57143478 0.98808572]]\n"
     ]
    }
   ],
   "source": [
    "# create a 3x3 array of uniformly distributed\n",
    "# random values between 0 and 1 \n",
    "array=np.random.random((3 , 3))\n",
    "print(array)"
   ]
  },
  {
   "cell_type": "code",
   "execution_count": 46,
   "metadata": {},
   "outputs": [
    {
     "name": "stdout",
     "output_type": "stream",
     "text": [
      "[[-0.20043145  0.49855218  0.62879739]\n",
      " [-0.37156346 -1.65387872 -0.23832779]\n",
      " [ 0.57763456  0.61905244 -0.58470159]]\n"
     ]
    }
   ],
   "source": [
    "# create a 3x3 array of normally distributed random values\n",
    "# with mean 0 and standard deviation 1  \n",
    "#np.random.normal(loc(Mean) , scale(Standard deviation) , size)\n",
    "array=np.random.normal(0 , 1 , (3 , 3))\n",
    "print(array)"
   ]
  },
  {
   "cell_type": "code",
   "execution_count": 50,
   "metadata": {},
   "outputs": [
    {
     "name": "stdout",
     "output_type": "stream",
     "text": [
      "[[59 57  9 90]\n",
      " [31 85 77 87]\n",
      " [28 60 61 68]]\n"
     ]
    }
   ],
   "source": [
    "# create a 3x3 array or random integers in the interval [a , b)\n",
    "array=np.random.randint(0 , 100 , (3 , 4))\n",
    "print(array)"
   ]
  },
  {
   "cell_type": "code",
   "execution_count": 52,
   "metadata": {},
   "outputs": [
    {
     "name": "stdout",
     "output_type": "stream",
     "text": [
      "[[1. 0. 0.]\n",
      " [0. 1. 0.]\n",
      " [0. 0. 1.]]\n"
     ]
    }
   ],
   "source": [
    "# create a 3x3 identity array\n",
    "array=np.eye(3)\n",
    "print(array)"
   ]
  },
  {
   "cell_type": "code",
   "execution_count": 55,
   "metadata": {},
   "outputs": [
    {
     "name": "stdout",
     "output_type": "stream",
     "text": [
      "[[4.67296746e-307 1.69121096e-306 2.67022274e-307 2.67019320e-306]\n",
      " [1.42413555e-306 1.78019082e-306 1.37959740e-306 6.23057349e-307]\n",
      " [1.42419530e-306 9.45739574e-308 1.95813426e-306 8.45603441e-307]]\n"
     ]
    }
   ],
   "source": [
    "# creating an uninitialized array of three integers\n",
    "# the value will be whatever happen to exist at that \n",
    "# memory location \n",
    "array=np.empty((3,4))\n",
    "print(array)"
   ]
  }
 ],
 "metadata": {
  "kernelspec": {
   "display_name": "Python 3",
   "language": "python",
   "name": "python3"
  },
  "language_info": {
   "codemirror_mode": {
    "name": "ipython",
    "version": 3
   },
   "file_extension": ".py",
   "mimetype": "text/x-python",
   "name": "python",
   "nbconvert_exporter": "python",
   "pygments_lexer": "ipython3",
   "version": "3.12.3"
  }
 },
 "nbformat": 4,
 "nbformat_minor": 2
}
