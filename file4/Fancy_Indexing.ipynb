{
 "cells": [
  {
   "cell_type": "markdown",
   "metadata": {},
   "source": [
    "### **Fancy Indexing**\n",
    "\n",
    "[https://jakevdp.github.io/PythonDataScienceHandbook/02.07-fancy-indexing.html\n",
    "](https://)"
   ]
  },
  {
   "cell_type": "code",
   "execution_count": 3,
   "metadata": {},
   "outputs": [
    {
     "name": "stdout",
     "output_type": "stream",
     "text": [
      "[19 45 22 88 47 96 20 80 29 86]\n"
     ]
    }
   ],
   "source": [
    "import numpy as np\n",
    "rand= np.random.RandomState(42)\n",
    "array=np.random.randint(100 , size=10)\n",
    "print(array)"
   ]
  },
  {
   "cell_type": "markdown",
   "metadata": {},
   "source": [
    "### 1D Fancy indexing "
   ]
  },
  {
   "cell_type": "code",
   "execution_count": 10,
   "metadata": {},
   "outputs": [
    {
     "name": "stdout",
     "output_type": "stream",
     "text": [
      "array: [19 45 22 88 47 96 20 80 29 86]\n",
      "slicing: [22 88 47]\n",
      "Fancy Indexing: [47 22 29]\n",
      "Fancy Indexing:\n",
      " [[29 22]\n",
      " [80 45]]\n"
     ]
    }
   ],
   "source": [
    "print('array:', array)\n",
    "# the old way of indexing slicing \n",
    "print('slicing:',array[2:5])\n",
    "# but this way will get you the elements linearly from the array\n",
    "\n",
    "# good way but not enough alternative way using list\n",
    "ind=[4 , 2 ,8]\n",
    "print('Fancy Indexing:', array[ind]) # print(array[[4 , 2 ,8]])\n",
    "\n",
    "# and you can use indexing in 2D array not just list \n",
    "ind=np.array([[8,2],[7,1]])\n",
    "print('Fancy Indexing:\\n', array[ind])\n",
    "\n",
    "\n",
    "\n"
   ]
  },
  {
   "cell_type": "markdown",
   "metadata": {},
   "source": [
    "### 2D Fancy indexing "
   ]
  },
  {
   "cell_type": "code",
   "execution_count": 16,
   "metadata": {},
   "outputs": [
    {
     "name": "stdout",
     "output_type": "stream",
     "text": [
      "array:\n",
      " [[ 0  1  2  3]\n",
      " [ 4  5  6  7]\n",
      " [ 8  9 10 11]\n",
      " [12 13 14 15]]\n",
      "Fancy Indexing:\n",
      " [ 0  5 10 15]\n"
     ]
    }
   ],
   "source": [
    "array=np.arange(16).reshape((4, 4))\n",
    "print('array:\\n' , array)\n",
    "\n",
    "row=np.array([0, 1, 2, 3])\n",
    "col=np.array([0, 1, 2, 3])\n",
    "\n",
    "print('Fancy Indexing:\\n', array[row , col])"
   ]
  },
  {
   "cell_type": "markdown",
   "metadata": {},
   "source": [
    "### Combined Indexing"
   ]
  },
  {
   "cell_type": "code",
   "execution_count": 37,
   "metadata": {},
   "outputs": [
    {
     "name": "stdout",
     "output_type": "stream",
     "text": [
      "array: [51 92 14 71 60 20 82 86 74 74 87 99 23  2 21 52]\n",
      "indexing: 14\n",
      "Fancy indexing: [60 20 71 74]\n",
      "\n",
      "array:\n",
      " [[ 1 87 29 37]\n",
      " [ 1 63 59 20]\n",
      " [32 75 57 21]\n",
      " [88 48 90 58]]\n",
      "Combined Indexing: [32 21 75 57]\n"
     ]
    }
   ],
   "source": [
    "# the old indexing way with Fancy indexing \n",
    "\n",
    "np.random.seed(42)\n",
    "array=np.random.randint(100 , size=(16))\n",
    "print('array:' , array)\n",
    "\n",
    "print('indexing:',array[2]) # old way of indexing in 1D\n",
    "ind=np.array([4 , 5 ,3 ,9])\n",
    "print('Fancy indexing:' , array[ind] , end='\\n\\n') # Fancy indexing in 1D\n",
    "\n",
    "# Combined Indexing in 2D\n",
    "array=np.random.randint(100 , size=(16) , dtype=int).reshape(4 , 4)\n",
    "print('array:\\n' , array)\n",
    "\n",
    "# array[row , col]\n",
    "# you can use slicing and the indexing with Fancy indexing \n",
    "# rows and columns and manipulate your array\n",
    "\n",
    "print('Combined Indexing:' , array[2 ,[0 , 3 ,1 ,2]])\n",
    "# in this line of code it will take the second row and get the indexes 0 , 3 , 1 , 2 respectively"
   ]
  }
 ],
 "metadata": {
  "kernelspec": {
   "display_name": "Python 3",
   "language": "python",
   "name": "python3"
  },
  "language_info": {
   "codemirror_mode": {
    "name": "ipython",
    "version": 3
   },
   "file_extension": ".py",
   "mimetype": "text/x-python",
   "name": "python",
   "nbconvert_exporter": "python",
   "pygments_lexer": "ipython3",
   "version": "3.12.3"
  }
 },
 "nbformat": 4,
 "nbformat_minor": 2
}
