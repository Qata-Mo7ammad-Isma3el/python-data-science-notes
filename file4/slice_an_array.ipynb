{
 "cells": [
  {
   "cell_type": "markdown",
   "metadata": {},
   "source": [
    "[https://jakevdp.github.io/PythonDataScienceHandbook/02.02-the-basics-of-numpy-arrays.html](https://)\n"
   ]
  },
  {
   "cell_type": "code",
   "execution_count": 3,
   "metadata": {},
   "outputs": [
    {
     "name": "stdout",
     "output_type": "stream",
     "text": [
      "[0 1 2 3 4 5 6 7 8 9]\n",
      "*********************\n",
      "[0 1 2 3 4]\n",
      "[0 2 4 6 8]\n"
     ]
    }
   ],
   "source": [
    "import numpy as np\n",
    "# slicing an one dimensional array and get subarray\n",
    "# start:end:step\n",
    "# note that:The ending is excluded\n",
    "array=np.arange(0 , 10)\n",
    "print(array)\n",
    "print('*'*21)\n",
    "\n",
    "print(array[0:5])\n",
    "print(array[:9:2])"
   ]
  },
  {
   "cell_type": "code",
   "execution_count": 4,
   "metadata": {},
   "outputs": [
    {
     "name": "stdout",
     "output_type": "stream",
     "text": [
      "[[ 1  2  3  4]\n",
      " [ 5  6  7  8]\n",
      " [ 9 10 11 12]]\n",
      "***************\n",
      "[[ 6  7]\n",
      " [10 11]]\n"
     ]
    }
   ],
   "source": [
    "\n",
    "\n",
    "# slicing an multidimensional array and get subarray\n",
    "# lets first create an array \n",
    "array=np.array([[1 , 2 , 3 , 4] , [5 , 6, 7 , 8] , [9 , 10 , 11 , 12]])\n",
    "print(array)\n",
    "# this is a 2D array that have (3 , 4) shape and 12 elements inside it \n",
    "print('*' * 15)\n",
    "\n",
    "# you can slice rows and columns in the same way \n",
    "# start:end:step\n",
    "# note that:The ending is excluded\n",
    "# note that dont use array[row][column] instead array[row,column] when you are working with slicing \n",
    "\n",
    "# so if i want to get the 6 , 7 , 10 , 11 \n",
    "\n",
    "print(array[1: , 1:3])\n"
   ]
  },
  {
   "cell_type": "code",
   "execution_count": 5,
   "metadata": {},
   "outputs": [
    {
     "name": "stdout",
     "output_type": "stream",
     "text": [
      "[1 5 9]\n",
      "[1 2 3 4]\n"
     ]
    }
   ],
   "source": [
    "# accessing rows and columns\n",
    "print(array[: , 0]) # specific column\n",
    "print(array[0 , :]) # specific row"
   ]
  }
 ],
 "metadata": {
  "kernelspec": {
   "display_name": "Python 3",
   "language": "python",
   "name": "python3"
  },
  "language_info": {
   "codemirror_mode": {
    "name": "ipython",
    "version": 3
   },
   "file_extension": ".py",
   "mimetype": "text/x-python",
   "name": "python",
   "nbconvert_exporter": "python",
   "pygments_lexer": "ipython3",
   "version": "3.12.3"
  }
 },
 "nbformat": 4,
 "nbformat_minor": 2
}
