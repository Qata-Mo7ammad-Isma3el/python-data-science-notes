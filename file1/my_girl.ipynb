{
 "cells": [
  {
   "cell_type": "code",
   "execution_count": 3,
   "metadata": {},
   "outputs": [],
   "source": [
    "import numpy as np\n",
    "from matplotlib import pyplot as plt \n",
    "import PyQt5\n",
    "%matplotlib qt\n",
    "x=np.arange(0 , 24)\n",
    "np.random.seed(46)\n",
    "y_1=np.arange(0 , 24)\n",
    "y_1.fill(0)\n",
    "y_2=np.random.randint(-10 , 10 , size=(24,))\n",
    "plt.plot(x , y_1 , color='b' , linewidth=3 , label='mohammad')\n",
    "plt.plot(x , y_2 , color='r' , linewidth=2 , linestyle='--' , label='jullnar')\n",
    "\n",
    "plt.title('the difference between jullnar and mohammad per day time')\n",
    "plt.xlabel('day time')\n",
    "plt.ylabel('feelings')\n",
    "plt.legend()\n",
    "plt.grid()\n",
    "plt.show()"
   ]
  }
 ],
 "metadata": {
  "kernelspec": {
   "display_name": "Python 3",
   "language": "python",
   "name": "python3"
  },
  "language_info": {
   "codemirror_mode": {
    "name": "ipython",
    "version": 3
   },
   "file_extension": ".py",
   "mimetype": "text/x-python",
   "name": "python",
   "nbconvert_exporter": "python",
   "pygments_lexer": "ipython3",
   "version": "3.12.3"
  }
 },
 "nbformat": 4,
 "nbformat_minor": 2
}
