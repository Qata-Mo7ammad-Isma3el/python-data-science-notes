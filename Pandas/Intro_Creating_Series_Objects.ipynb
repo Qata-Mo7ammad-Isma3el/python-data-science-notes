{
 "cells": [
  {
   "cell_type": "markdown",
   "metadata": {},
   "source": [
    "[https://jakevdp.github.io/PythonDataScienceHandbook/03.01-introducing-pandas-objects.html\n",
    "](https://)"
   ]
  },
  {
   "cell_type": "markdown",
   "metadata": {},
   "source": [
    "pandas is a development of numpy and it is a library that deal with data\n",
    "(array) but with indexes and more information's about data \n",
    "\n",
    "there are two objects in pandas: \n",
    "1) Series: it is a 1D array with indexes (0.....n) but one powerful feature of Series that the indexes could be names for rows or another data \n",
    "\n",
    "Ex:\n",
    "\n",
    "![alt text](pictures/Series_pic.png)\n",
    "\n",
    "\n",
    "2) data frame: it is a 2D array with the ability to give each row and each column a name instead of indexes (0....n)\n",
    "\n",
    "Ex:\n",
    "\n",
    "![alt text](pictures/dataFrame_pic.png)"
   ]
  },
  {
   "cell_type": "code",
   "execution_count": 1,
   "metadata": {},
   "outputs": [],
   "source": [
    "import numpy as np \n",
    "import pandas as pd "
   ]
  },
  {
   "cell_type": "markdown",
   "metadata": {},
   "source": [
    "### **The Pandas Series Object**\n",
    "##### created from a list or an array"
   ]
  },
  {
   "cell_type": "code",
   "execution_count": 8,
   "metadata": {},
   "outputs": [
    {
     "name": "stdout",
     "output_type": "stream",
     "text": [
      "Series:\n",
      "inde elem\n",
      " 0    1\n",
      "1    2\n",
      "2    3\n",
      "3    4\n",
      "dtype: int64\n"
     ]
    }
   ],
   "source": [
    "data=pd.Series([1 , 2 , 3  , 4])\n",
    "\n",
    "print('Series:\\ninde elem\\n' , data)\n"
   ]
  },
  {
   "cell_type": "markdown",
   "metadata": {},
   "source": [
    "##### convert it to numpy array"
   ]
  },
  {
   "cell_type": "code",
   "execution_count": 12,
   "metadata": {},
   "outputs": [
    {
     "name": "stdout",
     "output_type": "stream",
     "text": [
      "pandas Series to numpy array: [1 2 3 4]\n",
      "pandas Series type: <class 'pandas.core.series.Series'>\n",
      "pandas Series to numpy array type: <class 'numpy.ndarray'>\n"
     ]
    }
   ],
   "source": [
    "print('pandas Series to numpy array:' , data.values)\n",
    "print('pandas Series type:' , type(data))\n",
    "print('pandas Series to numpy array type:' , type(data.values))\n"
   ]
  },
  {
   "cell_type": "markdown",
   "metadata": {},
   "source": [
    "##### Series indexing "
   ]
  },
  {
   "cell_type": "code",
   "execution_count": 13,
   "metadata": {},
   "outputs": [
    {
     "data": {
      "text/plain": [
       "1"
      ]
     },
     "execution_count": 13,
     "metadata": {},
     "output_type": "execute_result"
    }
   ],
   "source": [
    "data[0] # the same as numpy array"
   ]
  },
  {
   "cell_type": "markdown",
   "metadata": {},
   "source": [
    "##### custom indexing"
   ]
  },
  {
   "cell_type": "code",
   "execution_count": 20,
   "metadata": {},
   "outputs": [
    {
     "name": "stdout",
     "output_type": "stream",
     "text": [
      "Series:\n",
      "inde elem\n",
      " A    1\n",
      "B    2\n",
      "C    3\n",
      "D    4\n",
      "dtype: int64\n",
      "1\n",
      "1\n"
     ]
    },
    {
     "name": "stderr",
     "output_type": "stream",
     "text": [
      "C:\\Users\\Mohammad Ismail\\AppData\\Local\\Temp\\ipykernel_7252\\3691083099.py:6: FutureWarning: Series.__getitem__ treating keys as positions is deprecated. In a future version, integer keys will always be treated as labels (consistent with DataFrame behavior). To access a value by position, use `ser.iloc[pos]`\n",
      "  print(data[0])\n"
     ]
    }
   ],
   "source": [
    "data=pd.Series([1 , 2 , 3  , 4] , index=['A' , 'B' , 'C' , 'D'])\n",
    "#note that: the index parameter will receive a list that have the same number of elements to the values\n",
    "print('Series:\\ninde elem\\n' , data)\n",
    "\n",
    "print(data['A']) # same as data[0] and the numerical indexes still working \n",
    "print(data[0])"
   ]
  },
  {
   "cell_type": "markdown",
   "metadata": {},
   "source": [
    "##### A Series from a Python dictionary"
   ]
  },
  {
   "cell_type": "code",
   "execution_count": 23,
   "metadata": {},
   "outputs": [
    {
     "name": "stdout",
     "output_type": "stream",
     "text": [
      "dictionary:\n",
      " {'California': 38332521, 'Texas': 26448193, 'New York': 12882135, 'Florida': 19651127, 'Illinois': 19552869}\n",
      "dictionary to Series:\n",
      " California    38332521\n",
      "Texas         26448193\n",
      "New York      12882135\n",
      "Florida       19651127\n",
      "Illinois      19552869\n",
      "dtype: int64\n"
     ]
    }
   ],
   "source": [
    "\n",
    "population_dict={'California': 38332521,\n",
    "                'Texas': 26448193,\n",
    "                'New York' :12882135,\n",
    "                'Florida':19651127,\n",
    "                'Illinois' :19552869, }\n",
    "\n",
    "# keys will be the indexes for the Series and values will be the elements\n",
    "print('dictionary:\\n' , population_dict)\n",
    "print('dictionary to Series:\\n' , pd.Series(population_dict))\n"
   ]
  },
  {
   "cell_type": "markdown",
   "metadata": {},
   "source": [
    "##### Slicing in Series"
   ]
  },
  {
   "cell_type": "code",
   "execution_count": 26,
   "metadata": {},
   "outputs": [
    {
     "data": {
      "text/plain": [
       "California    38332521\n",
       "Texas         26448193\n",
       "New York      12882135\n",
       "dtype: int64"
      ]
     },
     "execution_count": 26,
     "metadata": {},
     "output_type": "execute_result"
    }
   ],
   "source": [
    "data=pd.Series(population_dict)\n",
    "data['California':'New York']\n",
    "# start:end \n",
    "# in numpy array the ending is excluded but here the end is in the interval \n",
    "# and if you use the numerical indexing it will go back to numpy indexing rules"
   ]
  }
 ],
 "metadata": {
  "kernelspec": {
   "display_name": "Python 3",
   "language": "python",
   "name": "python3"
  },
  "language_info": {
   "codemirror_mode": {
    "name": "ipython",
    "version": 3
   },
   "file_extension": ".py",
   "mimetype": "text/x-python",
   "name": "python",
   "nbconvert_exporter": "python",
   "pygments_lexer": "ipython3",
   "version": "3.12.3"
  }
 },
 "nbformat": 4,
 "nbformat_minor": 2
}
