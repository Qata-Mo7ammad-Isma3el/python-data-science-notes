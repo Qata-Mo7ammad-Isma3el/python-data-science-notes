{
 "cells": [
  {
   "cell_type": "markdown",
   "metadata": {},
   "source": [
    "[https://jakevdp.github.io/PythonDataScienceHandbook/03.01-introducing-pandas-objects.html\n",
    "](https://)"
   ]
  },
  {
   "cell_type": "code",
   "execution_count": 1,
   "metadata": {},
   "outputs": [],
   "source": [
    "import numpy as np \n",
    "import pandas as pd"
   ]
  },
  {
   "cell_type": "markdown",
   "metadata": {},
   "source": [
    "### **Data Frame**\n",
    "##### from pandas Series "
   ]
  },
  {
   "cell_type": "code",
   "execution_count": 5,
   "metadata": {},
   "outputs": [
    {
     "name": "stdout",
     "output_type": "stream",
     "text": [
      "population Series\n",
      ": Baghdad    7655695\n",
      "Tunis       633894\n",
      "Algeria    3569126\n",
      "Riyadh     1618935\n",
      "Cairo      9568232\n",
      "dtype: int64\n",
      "\n",
      "area Series:\n",
      " Baghdad     204\n",
      "Riyadh     1973\n",
      "Tunis       212\n",
      "Algeria    1190\n",
      "Cairo      3085\n",
      "dtype: int64\n",
      "\n",
      "data Frame form Series:\n",
      "          population  area\n",
      "Algeria     3569126  1190\n",
      "Baghdad     7655695   204\n",
      "Cairo       9568232  3085\n",
      "Riyadh      1618935  1973\n",
      "Tunis        633894   212\n"
     ]
    }
   ],
   "source": [
    "population_dic={ 'Baghdad' : 7655695,\n",
    "                'Tunis':633894,\n",
    "                'Algeria' :3569126,\n",
    "                'Riyadh' :1618935,\n",
    "                'Cairo' : 9568232\n",
    "                }\n",
    "\n",
    "population=pd.Series(population_dic)\n",
    "print('population Series\\n:' , population ,  end='\\n\\n')\n",
    "\n",
    "area_dict={ 'Baghdad' : 204,\n",
    "            'Riyadh':1973,\n",
    "            'Tunis': 212, \n",
    "            'Algeria': 1190,\n",
    "            'Cairo':3085\n",
    "            }\n",
    "area=pd.Series(area_dict)\n",
    "print('area Series:\\n'  , area , end='\\n\\n')\n",
    "\n",
    "\n",
    "data_frame=pd.DataFrame({'population':population , 'area':area})\n",
    "print('data Frame form Series:\\n' ,data_frame)"
   ]
  },
  {
   "cell_type": "markdown",
   "metadata": {},
   "source": [
    "##### from python dictionary  "
   ]
  },
  {
   "cell_type": "code",
   "execution_count": 9,
   "metadata": {},
   "outputs": [
    {
     "name": "stdout",
     "output_type": "stream",
     "text": [
      "data Frame form dictionary:\n",
      "          population  area\n",
      "Baghdad     7655695   204\n",
      "Riyadh       633894  1973\n",
      "Tunis       3569126   212\n",
      "Algeria     1618935  1190\n",
      "Cairo       9568232  3085\n"
     ]
    }
   ],
   "source": [
    "data_frame=pd.DataFrame({'population':[7655695,633894,3569126,1618935,9568232 ] ,\n",
    "                        'area':[204,1973,212,1190,3085]} , \n",
    "                        index=['Baghdad','Riyadh','Tunis','Algeria','Cairo'])\n",
    "print('data Frame form dictionary:\\n' ,data_frame)"
   ]
  },
  {
   "cell_type": "markdown",
   "metadata": {},
   "source": [
    "#### some important functions "
   ]
  },
  {
   "cell_type": "code",
   "execution_count": 16,
   "metadata": {},
   "outputs": [
    {
     "name": "stdout",
     "output_type": "stream",
     "text": [
      "indexes: Index(['Baghdad', 'Riyadh', 'Tunis', 'Algeria', 'Cairo'], dtype='object')\n",
      "columns: Index(['population', 'area'], dtype='object')\n",
      "specific data in some column:\n",
      " Baghdad     204\n",
      "Riyadh     1973\n",
      "Tunis       212\n",
      "Algeria    1190\n",
      "Cairo      3085\n",
      "Name: area, dtype: int64\n",
      "specific value some column: 3085\n"
     ]
    }
   ],
   "source": [
    "print('indexes:' , data_frame.index)\n",
    "print('columns:' , data_frame.columns)\n",
    "print('specific data in some column:\\n' , data_frame['area'])\n",
    "print('specific value some column:' , data_frame['area']['Cairo'])"
   ]
  },
  {
   "cell_type": "markdown",
   "metadata": {},
   "source": [
    "#### From a Single Series Object"
   ]
  },
  {
   "cell_type": "code",
   "execution_count": 22,
   "metadata": {},
   "outputs": [
    {
     "name": "stdout",
     "output_type": "stream",
     "text": [
      "area Series:\n",
      " Baghdad     204\n",
      "Riyadh     1973\n",
      "Tunis       212\n",
      "Algeria    1190\n",
      "Cairo      3085\n",
      "dtype: int64\n",
      "area type: <class 'pandas.core.series.Series'>\n",
      "data frame:\n",
      "          area\n",
      "Baghdad   204\n",
      "Riyadh   1973\n",
      "Tunis     212\n",
      "Algeria  1190\n",
      "Cairo    3085\n"
     ]
    }
   ],
   "source": [
    "area_dict={ 'Baghdad' : 204,\n",
    "            'Riyadh':1973,\n",
    "            'Tunis': 212, \n",
    "            'Algeria': 1190,\n",
    "            'Cairo':3085\n",
    "            }\n",
    "area=pd.Series(area_dict)\n",
    "print('area Series:\\n'  , area)\n",
    "print('area type:'  , type(area))\n",
    "\n",
    "data_frame=pd.DataFrame(area , columns=['area'])\n",
    "#data_frame=pd.DataFrame({'area':area}) same as pd.DataFrame(area , columns=['area'])\n",
    "print('data frame:\\n' , data_frame)"
   ]
  },
  {
   "cell_type": "markdown",
   "metadata": {},
   "source": [
    "##### from a list of dictionarys  "
   ]
  },
  {
   "cell_type": "code",
   "execution_count": 31,
   "metadata": {},
   "outputs": [
    {
     "name": "stdout",
     "output_type": "stream",
     "text": [
      "data frame:\n",
      "         a  b\n",
      "first   1  2\n",
      "second  3  4\n",
      "third   5  6\n",
      "\n",
      "data frame:\n",
      "            a    b    c    d\n",
      "first    1.0  2.0  NaN  NaN\n",
      "second   NaN  NaN  3.0  4.0\n"
     ]
    }
   ],
   "source": [
    "data=[ {'a':1 , 'b':2} , {'a':3 , 'b':4} , {'a':5 , 'b':6} ]\n",
    "print('data frame:\\n', pd.DataFrame(data , index=['first' , 'second' , 'third']) , end='\\n\\n')\n",
    "data=[ {'a':1 , 'b':2} , {'c':3 , 'd':4}]\n",
    "print('data frame:\\n', pd.DataFrame(data , index=['first ' , 'second ']))\n",
    "#when some keys are missing nan will appear "
   ]
  },
  {
   "cell_type": "markdown",
   "metadata": {},
   "source": [
    "#### from two dimensional numpy array "
   ]
  },
  {
   "cell_type": "code",
   "execution_count": 42,
   "metadata": {},
   "outputs": [
    {
     "name": "stdout",
     "output_type": "stream",
     "text": [
      "[[26 39 48]\n",
      " [34 30 27]\n",
      " [48 40 26]\n",
      " [45 38 42]\n",
      " [30 30 43]\n",
      " [40 23 27]\n",
      " [43 22 41]\n",
      " [40 21 43]\n",
      " [31 49 25]\n",
      " [21 47 40]]\n",
      "       first  second  third\n",
      "One       26      39     48\n",
      "Two       34      30     27\n",
      "Three     48      40     26\n",
      "Four      45      38     42\n",
      "Five      30      30     43\n",
      "Six       40      23     27\n",
      "Seven     43      22     41\n",
      "Eight     40      21     43\n",
      "Nine      31      49     25\n",
      "Ten       21      47     40\n"
     ]
    }
   ],
   "source": [
    "np.random.seed(42)\n",
    "array=np.random.randint(20 , 50 , size=(10 , 3))\n",
    "print(array)\n",
    "indexes=['One', 'Two', 'Three', 'Four', 'Five',  'Six', 'Seven', 'Eight', 'Nine', 'Ten']\n",
    "data_frame=pd.DataFrame(array , columns=['first' , 'second' , 'third'] , \n",
    "                        index=[name for name in indexes])\n",
    "print(data_frame)"
   ]
  }
 ],
 "metadata": {
  "kernelspec": {
   "display_name": "Python 3",
   "language": "python",
   "name": "python3"
  },
  "language_info": {
   "codemirror_mode": {
    "name": "ipython",
    "version": 3
   },
   "file_extension": ".py",
   "mimetype": "text/x-python",
   "name": "python",
   "nbconvert_exporter": "python",
   "pygments_lexer": "ipython3",
   "version": "3.12.3"
  }
 },
 "nbformat": 4,
 "nbformat_minor": 2
}
