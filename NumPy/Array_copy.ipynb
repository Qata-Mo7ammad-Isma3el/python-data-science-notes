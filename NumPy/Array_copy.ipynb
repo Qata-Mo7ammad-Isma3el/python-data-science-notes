{
 "cells": [
  {
   "cell_type": "markdown",
   "metadata": {},
   "source": [
    "[https://jakevdp.github.io/PythonDataScienceHandbook/02.02-the-basics-of-numpy-arrays.html\n",
    "](https://)"
   ]
  },
  {
   "cell_type": "code",
   "execution_count": 4,
   "metadata": {},
   "outputs": [
    {
     "name": "stdout",
     "output_type": "stream",
     "text": [
      "[[ 1  2  3  4]\n",
      " [ 5  6  7  8]\n",
      " [ 9 10 11 12]]\n",
      "***************\n",
      "[[1 2]\n",
      " [5 6]]\n",
      "***************\n",
      "[[99  2]\n",
      " [ 5  6]]\n",
      "[[99  2  3  4]\n",
      " [ 5  6  7  8]\n",
      " [ 9 10 11 12]]\n"
     ]
    }
   ],
   "source": [
    "import numpy as np\n",
    "\n",
    "# Shallow copy\n",
    "\n",
    "# first of all lets create an array\n",
    "array=np.array([[1 , 2 , 3 , 4] , [5 , 6 , 7 , 8] , [9, 10 , 11 , 12]])\n",
    "print(array)\n",
    "print('*'*15)\n",
    "# and then lets take sub array from this array\n",
    "sub_array=array[:2 ,:2]\n",
    "print(sub_array)\n",
    "\n",
    "# the sub array is in the same location of the original array \n",
    "# so if you change any thing in the sub array it will be changed in the original one \n",
    "print('*'*15)\n",
    "sub_array[0,0]=99\n",
    "print(sub_array)\n",
    "print(array)\n"
   ]
  },
  {
   "cell_type": "code",
   "execution_count": 6,
   "metadata": {},
   "outputs": [
    {
     "name": "stdout",
     "output_type": "stream",
     "text": [
      "[[ 1  2  3  4]\n",
      " [ 5  6  7  8]\n",
      " [ 9 10 11 12]]\n",
      "[[100   2   3   4]\n",
      " [  5   6   7   8]\n",
      " [  9  10  11  12]]\n"
     ]
    }
   ],
   "source": [
    "array_1=np.array([[1 , 2 , 3 , 4] , [5 , 6 , 7 , 8] , [9, 10 , 11 , 12]])\n",
    "array_2=array_1\n",
    "print(array_2)\n",
    "array_1[0 , 0]=100\n",
    "print(array_2)\n",
    "# as you can see in this way you will take a shallow copy of the array not a deep copy "
   ]
  },
  {
   "cell_type": "markdown",
   "metadata": {},
   "source": [
    "A shallow copy creates a new array, but it does not create new copies of the elements within the array. Instead, it points to the same elements as the original array. A deep copy, on the other hand, creates a completely independent copy of both the array and its data. It does not share any data with the original array."
   ]
  },
  {
   "cell_type": "code",
   "execution_count": 10,
   "metadata": {},
   "outputs": [
    {
     "name": "stdout",
     "output_type": "stream",
     "text": [
      "[[ 1  2  3  4]\n",
      " [ 5  6  7  8]\n",
      " [ 9 10 11 12]]\n",
      "***************\n",
      "[[1 2]\n",
      " [5 6]]\n",
      "\n",
      "[[99  2  3  4]\n",
      " [ 5  6  7  8]\n",
      " [ 9 10 11 12]]\n"
     ]
    }
   ],
   "source": [
    "# Deep copy \n",
    "# first of all lets create an array\n",
    "array=np.array([[1 , 2 , 3 , 4] , [5 , 6 , 7 , 8] , [9, 10 , 11 , 12]])\n",
    "print(array)\n",
    "print('*'*15)\n",
    "# by using copy function it will take a real copy of the array that is completely independent\n",
    "# and dose not reflect the original copy \n",
    "sub_array=array[:2 , :2].copy()\n",
    "# lets test it and as you can see the array changed with no effects on the sub array\n",
    "array[0 , 0]=99\n",
    "print(sub_array , end='\\n\\n')\n",
    "print(array)"
   ]
  }
 ],
 "metadata": {
  "kernelspec": {
   "display_name": "Python 3",
   "language": "python",
   "name": "python3"
  },
  "language_info": {
   "codemirror_mode": {
    "name": "ipython",
    "version": 3
   },
   "file_extension": ".py",
   "mimetype": "text/x-python",
   "name": "python",
   "nbconvert_exporter": "python",
   "pygments_lexer": "ipython3",
   "version": "3.12.3"
  }
 },
 "nbformat": 4,
 "nbformat_minor": 2
}
