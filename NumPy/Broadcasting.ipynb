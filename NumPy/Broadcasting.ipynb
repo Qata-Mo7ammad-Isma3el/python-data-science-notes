{
 "cells": [
  {
   "cell_type": "markdown",
   "metadata": {},
   "source": [
    "[https://jakevdp.github.io/PythonDataScienceHandbook/02.05-computation-on-arrays-broadcasting.html\n",
    "](https://)"
   ]
  },
  {
   "cell_type": "code",
   "execution_count": 2,
   "metadata": {},
   "outputs": [
    {
     "name": "stdout",
     "output_type": "stream",
     "text": [
      "array: [1 2 3]\n",
      "array+5: [6 7 8]\n"
     ]
    }
   ],
   "source": [
    "import numpy as np\n",
    "\n",
    "# https://numpy.org/doc/stable/user/basics.broadcasting.html\n",
    "# https://jakevdp.github.io/PythonDataScienceHandbook/02.05-computation-on-arrays-broadcasting.html\n",
    "\n",
    "# Broadcasting\n",
    "# Broadcasting is simply a set of rules for applying binary ufuncs \n",
    "# (addition, subtraction, multiplication, etc.) on arrays of different sizes.\n",
    "\n",
    "# preforming a mathematical operation on array and number \n",
    "# with numpy array the operation will be preformed on each element contained in the array \n",
    "array=np.array([1 , 2, 3])\n",
    "print('array:' , array)\n",
    "print('array+5:' ,array+5)\n"
   ]
  },
  {
   "cell_type": "code",
   "execution_count": 8,
   "metadata": {},
   "outputs": [
    {
     "name": "stdout",
     "output_type": "stream",
     "text": [
      "x: [1 2 3]\n",
      "y: [4 5 6]\n",
      "x+y: [5 7 9]\n"
     ]
    }
   ],
   "source": [
    "# preforming any mathematical operation on two arrays with the same size \n",
    "# will work with indexes and preform the operation on these arrays \n",
    "x=np.array([1 , 2 , 3])\n",
    "y=np.array([4 , 5 , 6])\n",
    "print('x:' , x)\n",
    "print('y:' , y)\n",
    "print('x+y:' , x+y)"
   ]
  },
  {
   "cell_type": "code",
   "execution_count": 8,
   "metadata": {},
   "outputs": [
    {
     "name": "stdout",
     "output_type": "stream",
     "text": [
      "x dimensions:1 , x shape:(3,) \n",
      "y dimensions:2 , y shape:(4, 3) \n",
      "x:\n",
      " [1 2 3]\n",
      "y:\n",
      " [[1. 1. 1.]\n",
      " [1. 1. 1.]\n",
      " [1. 1. 1.]\n",
      " [1. 1. 1.]]\n",
      "x+y:\n",
      " [[2. 3. 4.]\n",
      " [2. 3. 4.]\n",
      " [2. 3. 4.]\n",
      " [2. 3. 4.]]\n"
     ]
    }
   ],
   "source": [
    "# preforming any mathematical operation on two arrays with the 1D array and 2D array\n",
    "\n",
    "x=np.array([1 , 2, 3])\n",
    "y=np.ones((4 , 3))\n",
    "\n",
    "print(f'x dimensions:{x.ndim} , x shape:{x.shape} ')\n",
    "print(f'y dimensions:{y.ndim} , y shape:{y.shape} ')\n",
    "\n",
    "print('x:\\n' , x)\n",
    "print('y:\\n' , y)\n",
    "print('x+y:\\n' , x+y)\n",
    "\n",
    "\n",
    "# x dimensions:1 , x shape:(N,) \n",
    "# y dimensions:2 , y shape:(M, N)\n",
    "\n",
    "# the number of elements in the 1D array have to be equal to number of columns in the 2D array \n",
    "# and the operation is preformed to each row individually \n"
   ]
  },
  {
   "cell_type": "code",
   "execution_count": 9,
   "metadata": {},
   "outputs": [
    {
     "name": "stdout",
     "output_type": "stream",
     "text": [
      "x dimensions:1 , x shape:(3,) \n",
      "y dimensions:2 , y shape:(3, 1) \n",
      "x:\n",
      " [0 1 2]\n",
      "y:\n",
      " [[0]\n",
      " [1]\n",
      " [2]]\n",
      "x+y:\n",
      " [[0 1 2]\n",
      " [1 2 3]\n",
      " [2 3 4]]\n"
     ]
    }
   ],
   "source": [
    "x=np.arange(0 , 3)\n",
    "y=np.arange(0 , 3).reshape(3 , 1)\n",
    "\n",
    "print(f'x dimensions:{x.ndim} , x shape:{x.shape} ')\n",
    "print(f'y dimensions:{y.ndim} , y shape:{y.shape} ')\n",
    "\n",
    "print('x:\\n' , x)\n",
    "print('y:\\n' , y)\n",
    "print('x+y:\\n' , x+y)\n",
    "\n",
    "# how it works \n",
    "\n",
    "#    0  1  2 \n",
    "# 0  0  1  2\n",
    "# 1  1  2  3 \n",
    "# 2  2  3  4\n",
    "\n"
   ]
  },
  {
   "cell_type": "markdown",
   "metadata": {},
   "source": [
    "Rules of Broadcasting\n",
    "Broadcasting in NumPy follows a strict set of rules to determine the interaction between the two arrays:\n",
    "\n",
    "1) Rule 1: If the two arrays differ in their number of dimensions, the shape of the one with fewer dimensions is padded with ones on its leading (left) side.\n",
    "\n",
    "Ex:\n",
    "x.shape = (2,3)  , y.shape=(3,)\n",
    "it will become \n",
    "x.shape = (2,3)  , y.shape=(1,3)\n",
    "\n",
    "\n",
    "2) Rule 2: If the shape of the two arrays does not match in any dimension, the array with shape equal to 1 in that dimension is stretched to match the other shape.\n",
    "\n",
    "Ex:\n",
    "x.shape = (2,3)  , y.shape=(1,3)\n",
    "it will become \n",
    "x.shape = (2,3)  , y.shape=(2,3)\n",
    "\n",
    "\n",
    "3) Rule 3: If in any dimension the sizes disagree and neither is equal to 1, an error is raised.\n",
    "\n",
    "Ex:\n",
    "it x.shape = (2,3)  , y.shape=(1,3) become x.shape = (2,3)  , y.shape=(2,3)\n",
    "otherwise it will raise an error \n",
    "\n"
   ]
  },
  {
   "cell_type": "code",
   "execution_count": 12,
   "metadata": {},
   "outputs": [
    {
     "name": "stdout",
     "output_type": "stream",
     "text": [
      "x dimensions:2 , x shape:(2, 3) \n",
      "y dimensions:1 , y shape:(3,) \n",
      "\n",
      "x:\n",
      " [[1. 1. 1.]\n",
      " [1. 1. 1.]]\n",
      "y:\n",
      " [0 1 2]\n",
      "x+y:\n",
      " [[1. 2. 3.]\n",
      " [1. 2. 3.]]\n"
     ]
    }
   ],
   "source": [
    "# Broadcasting example 1\n",
    "x = np.ones((2, 3))\n",
    "y = np.arange(3)\n",
    "\n",
    "# x dimensions:2 , x shape:(2, 3) \n",
    "# y dimensions:1 , y shape:(3,) \n",
    "print(f'x dimensions:{x.ndim} , x shape:{x.shape} ')\n",
    "print(f'y dimensions:{y.ndim} , y shape:{y.shape} ' , end='\\n\\n')\n",
    "\n",
    "# We see by rule 1 that the array y has fewer dimensions, so we pad it on the left with ones\n",
    "# x dimensions:2 , x shape:(2, 3) \n",
    "# y dimensions:2 , y shape:(1, 3) \n",
    "\n",
    "# By rule 2, we now see that the first dimension disagrees, so we stretch this dimension to match\n",
    "# x dimensions:2 , x shape:(2, 3) \n",
    "# y dimensions:2 , y shape:(2, 3)\n",
    "\n",
    "# then we can preform the operation on them \n",
    "print('x:\\n' , x)\n",
    "print('y:\\n' , y)\n",
    "print('x+y:\\n' , x+y)\n"
   ]
  },
  {
   "cell_type": "code",
   "execution_count": 14,
   "metadata": {},
   "outputs": [
    {
     "name": "stdout",
     "output_type": "stream",
     "text": [
      "x dimensions:2 , x shape:(3, 1) \n",
      "y dimensions:1 , y shape:(3,) \n",
      "\n",
      "x:\n",
      " [[0]\n",
      " [1]\n",
      " [2]]\n",
      "y:\n",
      " [0 1 2]\n",
      "x+y:\n",
      " [[0 1 2]\n",
      " [1 2 3]\n",
      " [2 3 4]]\n"
     ]
    }
   ],
   "source": [
    "# Broadcasting example 2\n",
    "x = np.arange(3).reshape((3, 1))\n",
    "y = np.arange(3)\n",
    "\n",
    "# x dimensions:2 , x shape:(3, 1) \n",
    "# y dimensions:1 , y shape:(3,) \n",
    "print(f'x dimensions:{x.ndim} , x shape:{x.shape} ')\n",
    "print(f'y dimensions:{y.ndim} , y shape:{y.shape} ' , end='\\n\\n')\n",
    "\n",
    "# Rule 1 says we must pad the shape of y with ones\n",
    "# x dimensions:2 , x shape:(3, 1) \n",
    "# y dimensions:2 , y shape:(1, 3)\n",
    "\n",
    "#And rule 2 tells us that we upgrade each of these ones to match the corresponding size of the other array\n",
    "# x dimensions:2 , x shape:(3, 3) \n",
    "# y dimensions:2 , y shape:(3, 3)\n",
    "\n",
    "#Because the result matches, these shapes are compatible. We can see this here\n",
    "print('x:\\n' , x)\n",
    "print('y:\\n' , y)\n",
    "print('x+y:\\n' , x+y)\n",
    "\n"
   ]
  },
  {
   "cell_type": "code",
   "execution_count": 16,
   "metadata": {},
   "outputs": [
    {
     "name": "stdout",
     "output_type": "stream",
     "text": [
      "x dimensions:2 , x shape:(3, 2) \n",
      "y dimensions:1 , y shape:(3,) \n",
      "\n",
      "x:\n",
      " [[1. 1.]\n",
      " [1. 1.]\n",
      " [1. 1.]]\n",
      "y:\n",
      " [0 1 2]\n"
     ]
    },
    {
     "ename": "ValueError",
     "evalue": "operands could not be broadcast together with shapes (3,2) (3,) ",
     "output_type": "error",
     "traceback": [
      "\u001b[1;31m---------------------------------------------------------------------------\u001b[0m",
      "\u001b[1;31mValueError\u001b[0m                                Traceback (most recent call last)",
      "Cell \u001b[1;32mIn[16], line 24\u001b[0m\n\u001b[0;32m     22\u001b[0m \u001b[38;5;28mprint\u001b[39m(\u001b[38;5;124m'\u001b[39m\u001b[38;5;124mx:\u001b[39m\u001b[38;5;130;01m\\n\u001b[39;00m\u001b[38;5;124m'\u001b[39m , x)\n\u001b[0;32m     23\u001b[0m \u001b[38;5;28mprint\u001b[39m(\u001b[38;5;124m'\u001b[39m\u001b[38;5;124my:\u001b[39m\u001b[38;5;130;01m\\n\u001b[39;00m\u001b[38;5;124m'\u001b[39m , y)\n\u001b[1;32m---> 24\u001b[0m \u001b[38;5;28mprint\u001b[39m(\u001b[38;5;124m'\u001b[39m\u001b[38;5;124mx+y:\u001b[39m\u001b[38;5;130;01m\\n\u001b[39;00m\u001b[38;5;124m'\u001b[39m , \u001b[43mx\u001b[49m\u001b[38;5;241;43m+\u001b[39;49m\u001b[43my\u001b[49m)\n",
      "\u001b[1;31mValueError\u001b[0m: operands could not be broadcast together with shapes (3,2) (3,) "
     ]
    }
   ],
   "source": [
    "# Broadcasting example 2\n",
    "x = np.ones((3, 2))\n",
    "y = np.arange(3)\n",
    "\n",
    "# x dimensions:2 , x shape:(3, 2) \n",
    "# y dimensions:1 , y shape:(3,) \n",
    "\n",
    "\n",
    "print(f'x dimensions:{x.ndim} , x shape:{x.shape} ')\n",
    "print(f'y dimensions:{y.ndim} , y shape:{y.shape} ' , end='\\n\\n')\n",
    "\n",
    "# rule 1 tells us that we must pad the shape of y with ones\n",
    "# x dimensions:2 , x shape:(3, 2) \n",
    "# y dimensions:2 , y shape:(1, 3)\n",
    "\n",
    "# By rule 2, the first dimension of y is stretched to match that of x\n",
    "# x dimensions:2 , x shape:(3, 2) \n",
    "# y dimensions:2 , y shape:(3, 3)\n",
    "\n",
    "# Now we hit rule 3–the final shapes do not match, so these two arrays are incompatible,\n",
    "# as we can observe by attempting this operation\n",
    "print('x:\\n' , x)\n",
    "print('y:\\n' , y)\n",
    "print('x+y:\\n' , x+y)"
   ]
  },
  {
   "cell_type": "markdown",
   "metadata": {},
   "source": [
    "![alt text](pictures/broadcasting.png)"
   ]
  }
 ],
 "metadata": {
  "kernelspec": {
   "display_name": "Python 3",
   "language": "python",
   "name": "python3"
  },
  "language_info": {
   "codemirror_mode": {
    "name": "ipython",
    "version": 3
   },
   "file_extension": ".py",
   "mimetype": "text/x-python",
   "name": "python",
   "nbconvert_exporter": "python",
   "pygments_lexer": "ipython3",
   "version": "3.12.3"
  }
 },
 "nbformat": 4,
 "nbformat_minor": 2
}
