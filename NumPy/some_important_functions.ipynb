{
 "cells": [
  {
   "cell_type": "markdown",
   "metadata": {},
   "source": [
    "[https://jakevdp.github.io/PythonDataScienceHandbook/02.08-sorting.html\n",
    "](https://)"
   ]
  },
  {
   "cell_type": "code",
   "execution_count": 9,
   "metadata": {},
   "outputs": [
    {
     "name": "stdout",
     "output_type": "stream",
     "text": [
      "x:\n",
      " [3 4 5 6 4 8]\n",
      "y:\n",
      " [[ 3  0  9  7  4]\n",
      " [ 9  1  3  6 -1]\n",
      " [ 3  7  7  4  1]\n",
      " [ 0  4  4 -1  2]]\n"
     ]
    }
   ],
   "source": [
    "import numpy as np\n",
    "np.random.seed(42)\n",
    "x=np.array([3 , 4, 5, 6  , 4 ,8])\n",
    "y=np.random.randint(-3 , 10 , size=20).reshape(4 , 5)\n",
    "print('x:\\n' , x)\n",
    "print('y:\\n', y)"
   ]
  },
  {
   "cell_type": "markdown",
   "metadata": {},
   "source": [
    "#### np.sort()"
   ]
  },
  {
   "cell_type": "code",
   "execution_count": 10,
   "metadata": {},
   "outputs": [
    {
     "name": "stdout",
     "output_type": "stream",
     "text": [
      "sorted array x: [3 4 4 5 6 8]\n",
      "(ascending) sorted array y along rows:\n",
      " [[ 0  0  3 -1 -1]\n",
      " [ 3  1  4  4  1]\n",
      " [ 3  4  7  6  2]\n",
      " [ 9  7  9  7  4]]\n",
      "(ascending) sorted array y along columns:\n",
      " [[ 0  3  4  7  9]\n",
      " [-1  1  3  6  9]\n",
      " [ 1  3  4  7  7]\n",
      " [-1  0  2  4  4]]\n",
      "(descending) sorted array y along rows:\n",
      " [[ 9  7  9  7  4]\n",
      " [ 3  4  7  6  2]\n",
      " [ 3  1  4  4  1]\n",
      " [ 0  0  3 -1 -1]]\n",
      "(descending) sorted array y along columns:\n",
      " [[-1  0  2  4  4]\n",
      " [ 1  3  4  7  7]\n",
      " [-1  1  3  6  9]\n",
      " [ 0  3  4  7  9]]\n"
     ]
    }
   ],
   "source": [
    "\n",
    "print('sorted array x:',np.sort(x))\n",
    "#Recap: axis=0 will sort along Rows\n",
    "#Recap: axis=1 will sort along columns\n",
    "print('(ascending) sorted array y along rows:\\n' , np.sort(y , axis=0))\n",
    "print('(ascending) sorted array y along columns:\\n' , np.sort(y , axis=1))\n",
    "\n",
    "\n",
    "# note that: the default argument of axis in sort method is -1 \n",
    "# -1 means that the sort will be along the last axis that our array have \n",
    "# for example if our array is 3D the axises are 0 , 1 , 2 and the -1 from them is 2 \n",
    "# if our array is 5D the axises are 0 , 1 , 2 , 3 , 4 and the -1 from them is 4 \n",
    "\n",
    "\n",
    "# note that the sort function preform ascending sort to get descending you have to reverse the array\n",
    "print('(descending) sorted array y along rows:\\n' , np.sort(y , axis=0)[::-1])\n",
    "print('(descending) sorted array y along columns:\\n' , np.sort(y , axis=1)[::-1])"
   ]
  },
  {
   "cell_type": "markdown",
   "metadata": {},
   "source": [
    "#### np.argsort()"
   ]
  },
  {
   "cell_type": "code",
   "execution_count": 11,
   "metadata": {},
   "outputs": [
    {
     "name": "stdout",
     "output_type": "stream",
     "text": [
      "sorted array x: [0 1 4 2 3 5]\n",
      "(ascending) sorted array y along rows:\n",
      " [[3 0 1 3 1]\n",
      " [0 1 3 2 2]\n",
      " [2 3 2 1 3]\n",
      " [1 2 0 0 0]]\n",
      "(ascending) sorted array y along columns:\n",
      " [[1 0 4 3 2]\n",
      " [4 1 2 3 0]\n",
      " [4 0 3 1 2]\n",
      " [3 0 4 1 2]]\n"
     ]
    }
   ],
   "source": [
    "# the one and the only difference between sort and argsort that \n",
    "# sort function will return sorted array with values \n",
    "# argsort function will return sorted array with indexes \n",
    "\n",
    "print('sorted array x:',np.argsort(x))\n",
    "print('(ascending) sorted array y along rows:\\n' , np.argsort(y , axis=0))\n",
    "print('(ascending) sorted array y along columns:\\n' , np.argsort(y , axis=1))"
   ]
  },
  {
   "cell_type": "markdown",
   "metadata": {},
   "source": [
    "#### np.any() or ∃  "
   ]
  },
  {
   "cell_type": "code",
   "execution_count": 12,
   "metadata": {},
   "outputs": [
    {
     "name": "stdout",
     "output_type": "stream",
     "text": [
      "True\n",
      "[[ True False  True]]\n",
      "[ True  True]\n"
     ]
    }
   ],
   "source": [
    "x=np.array([True , False , True , False , False])\n",
    "y=np.array([[True , False , True]\n",
    "            ,[True , False , True]])\n",
    "print(np.any(x)) # at least one True value in the array x\n",
    "print(np.any(y , axis=0 , keepdims=True)) # along Rows \n",
    "print(np.any(y , axis=1)) # along columns \n"
   ]
  },
  {
   "cell_type": "markdown",
   "metadata": {},
   "source": [
    "#### np.all() or ∀"
   ]
  },
  {
   "cell_type": "code",
   "execution_count": 13,
   "metadata": {},
   "outputs": [
    {
     "name": "stdout",
     "output_type": "stream",
     "text": [
      "False\n",
      "[ True False  True]\n",
      "[False False]\n"
     ]
    }
   ],
   "source": [
    "print(np.all(x)) # for all values in x must be True  \n",
    "print(np.all(y , axis=0)) # along Rows \n",
    "print(np.all(y , axis=1)) # along columns "
   ]
  },
  {
   "cell_type": "markdown",
   "metadata": {},
   "source": [
    "#### numpy.where()"
   ]
  },
  {
   "cell_type": "code",
   "execution_count": 18,
   "metadata": {},
   "outputs": [
    {
     "name": "stdout",
     "output_type": "stream",
     "text": [
      "[ 5  6  0  0  8 10  0]\n"
     ]
    }
   ],
   "source": [
    "array=np.array([5 , 6 , -1 , -6 , 8 , 10 , -20])\n",
    "# np.where() is as same as the ternary operator in c++ language \n",
    "# c++ => (condition)?True_case:False_case \n",
    "# python => np.where(condition,True_case,False_case)\n",
    "# simply it will replace the value from the array by the True_case if the value is True according to the condition\n",
    "# otherwise it will replace the value from the array by the False_case\n",
    "print(np.where(array < 0 , 0 , array))"
   ]
  },
  {
   "cell_type": "markdown",
   "metadata": {},
   "source": [
    "#### numpy.isnan()"
   ]
  },
  {
   "cell_type": "code",
   "execution_count": 35,
   "metadata": {},
   "outputs": [
    {
     "name": "stdout",
     "output_type": "stream",
     "text": [
      "array x: [ 1.  2.  3. nan 67.]\n",
      "array x mean: nan\n",
      "isnan x: [False False False  True False]\n",
      "\n",
      "array y:\n",
      " [[nan  1.  2.  3.]\n",
      " [ 4.  5. nan  7.]\n",
      " [ 8.  9. 10. nan]]\n",
      "isnan y:\n",
      " [[ True False False False]\n",
      " [False False  True False]\n",
      " [False False False  True]]\n",
      "isnan along Rows:\n",
      " [[ True False  True  True]]\n",
      "isnan along Rows:\n",
      " [[ True]\n",
      " [ True]\n",
      " [ True]]\n"
     ]
    }
   ],
   "source": [
    "x = np.array([1,2,3,np.nan,67])\n",
    "print('array x:',x)\n",
    "print('array x mean:' , np.mean(x))\n",
    "# some data can have nan it is just undefined index and have no value \n",
    "# it can arise problems if you want to calculate a mean the value will be nan \n",
    "\n",
    "# isnan() simply is a method that return a boolean array with True if there is an nan in your data \n",
    "print('isnan x:', np.isnan(x) , end='\\n\\n')\n",
    "\n",
    "\n",
    "y=np.array([[np.nan , 1 , 2 ,3]\n",
    "            ,[4 ,5 , np.nan , 7]\n",
    "            ,[8 , 9 , 10 , np.nan]])\n",
    "print('array y:\\n',y)\n",
    "\n",
    "print('isnan y:\\n', np.isnan(y)) #there is no axis parameter here \n",
    "\n",
    "# if you want to check rows or columns you can use np.any() method \n",
    "print( 'isnan along Rows:\\n', np.any(np.isnan(y) , axis=0 ,keepdims=True)) # along rows\n",
    "print('isnan along Rows:\\n', np.any(np.isnan(y) , axis=1 ,keepdims=True)) # along rows\n",
    "\n",
    "\n"
   ]
  },
  {
   "cell_type": "markdown",
   "metadata": {},
   "source": [
    "#### np.savetxt()"
   ]
  },
  {
   "cell_type": "code",
   "execution_count": 41,
   "metadata": {},
   "outputs": [
    {
     "name": "stdout",
     "output_type": "stream",
     "text": [
      "[[  6 -10 -10  -6   1  -5  -5   6   2  -3]\n",
      " [  1   4   8   9   6  -2   7  -9   0   9]\n",
      " [  6   7   4  -4   5 -10   7  -3  -4  -9]\n",
      " [  1   5  -2   9   0   4  -8   2   2  -9]\n",
      " [ -5  -5   1  -7  -6  -3  -5  -8  -3   8]\n",
      " [  0   7  -1   9   1   9  -3   8   5   7]\n",
      " [ -2  -7  -2  -9  -2  -2   7   0   2  -5]\n",
      " [ -2   5  -7  -9  -4   4  -5   0   9   6]\n",
      " [ -7   8  -4   0   2  -8   3  -9   7  -6]\n",
      " [  2   2   3   1   2   7   2  -7  -1  -6]\n",
      " [  7  -3   3  -9  -3   5  -4  -8  -7  -4]\n",
      " [ -7  -2   6   6   9   3   3   2  -7   2]\n",
      " [  6   4   7   0  -7   9   0  -1   2  -3]\n",
      " [  2  -2 -10 -10   4  -7   9 -10   1   0]\n",
      " [  8   4  -1 -10  -8   3   4 -10  -1 -10]\n",
      " [  4  -8   9   1   8   5  -3   3   7 -10]\n",
      " [ -9   1   6  -9   6  -4  -5  -5  -3  -6]\n",
      " [  4  -4  -8  -1  -8   3  -8 -10 -10   8]\n",
      " [ -7  -9   0   1   2   5   5   8   9   9]\n",
      " [ -2   5  -4   2  -7   2  -3  -9  -4   0]\n",
      " [  6   3   2   4  -2  -8   2   2  -2   7]\n",
      " [ -6   0  -9   6   9  -7   7   9  -3   8]\n",
      " [  1   0   5  -6  -8   1   4   5   2  -4]\n",
      " [  4  -8   1  -3   1   7  -8   1  -9   3]\n",
      " [  3  -7   6   4   5  -6   6  -4   4   6]\n",
      " [  1   0   8   0  -9   4  -6   7   5  -7]\n",
      " [ -1  -9   4  -7   5  -4   1  -8   6  -2]\n",
      " [ -3  -5   4  -1  -5   4   3   8   2   3]\n",
      " [ -8  -7   3   3  -3  -1  -2   3  -3   0]\n",
      " [ -1   7  -7  -7   1   7  -3  -8   7  -4]\n",
      " [-10   2  -8  -8   4   8  -7   2   2   4]\n",
      " [  8   5  -4  -8   9  -9   7   0 -10   5]\n",
      " [  6   5  -1   6  -8   7   8   3  -9   1]\n",
      " [  0   6  -5   8   2  -4   0  -4   2   2]\n",
      " [-10   8   8   4   3  -8   9  -7  -4 -10]\n",
      " [  8  -8   9   4   2   3  -4 -10   2  -7]\n",
      " [  1  -4  -9   6 -10   3 -10  -8   0  -4]\n",
      " [ -2  -8 -10   8  -9  -6   6   8  -6   3]\n",
      " [ -1  -4  -3  -3  -4   2   3   8   0  -9]\n",
      " [  6  -5  -2   8  -6  -2  -4  -7   7   7]\n",
      " [  9   6  -7   5  -6  -2  -9  -9  -7   9]\n",
      " [  9   6   9   8  -8  -6  -1  -5  -8   6]\n",
      " [ -1   1 -10   7   8   9  -7   4  -2  -5]\n",
      " [  1   7   4   8  -2   2   5   2 -10   7]\n",
      " [ -8   6  -6  -5   6   6 -10  -4   5  -6]\n",
      " [  5  -7   0   3   2  -3   9   4   7  -4]\n",
      " [  8  -2   0  -1   3   5  -3 -10   1  -8]\n",
      " [ -9   5  -7  -9   1   6   9  -1   9  -3]\n",
      " [  7   7   7  -9   1  -1  -3   8  -1   0]\n",
      " [  3   4  -1  -7  -4   0  -8  -6  -9   1]\n",
      " [ -6  -4  -7   0  -2  -7  -2   1   5 -10]\n",
      " [ -3 -10   9   8  -7   3   3  -2  -2   6]\n",
      " [  4  -1   6  -2  -7   3  -8   1 -10 -10]\n",
      " [  2   3   5  -4  -1   4  -3   0   3   2]\n",
      " [  2  -2   6   7   8   2   1   9   9  -3]\n",
      " [  0  -4 -10  -1   4  -7 -10   0  -6   8]\n",
      " [  8  -7  -9  -4   2   9   1  -9  -2   5]\n",
      " [ -3   7  -7   0   6  -3   8  -3  -5  -9]\n",
      " [  4 -10  -5   8  -7   2   4  -2  -8  -9]\n",
      " [  5   7   7  -5   7   0  -4   3   7  -4]\n",
      " [ -1  -3   3   7  -6   3  -1   4  -5  -2]\n",
      " [ -1   6 -10   3  -7  -9  -8  -4   3   1]\n",
      " [  8   7   4 -10  -8   4  -7   4  -1  -5]\n",
      " [  2  -4 -10   0   3  -5  -6   8   8   2]\n",
      " [ -4  -3   3   8   8   1  -2   3  -5   4]\n",
      " [  2  -4   0  -1 -10  -4   7  -8  -2  -6]\n",
      " [  2   5   5   1   7   0   6  -4   4  -5]\n",
      " [ -5   7   8   9   8  -9  -8   3  -7   6]\n",
      " [ -5   8  -2  -7  -4  -7   0  -9  -1  -5]\n",
      " [ -3   4   2  -9   9 -10   4  -4   7  -1]\n",
      " [  4  -6   0  -3  -3  -5   4   4  -6   2]\n",
      " [  3   0   9   1   9 -10  -8  -3   1   4]\n",
      " [ -8  -3   8   9  -5   7   0   1  -9  -6]\n",
      " [ -7  -2   2   2   4  -9   2  -4   6  -3]\n",
      " [  7   4   4  -6  -9   5  -6  -5   1  -6]\n",
      " [  9  -3   0   3   6  -1  -9  -8   2   6]\n",
      " [ -8  -1  -3  -7   2  -4  -4   5  -6   6]\n",
      " [ -1  -7   3  -6  -9   3   7   0   5   7]\n",
      " [  5  -7 -10   3   1  -1   8  -7   9  -8]\n",
      " [ -7   4   0   5  -7  -5  -3   2   9  -7]\n",
      " [ -6  -1  -6   1 -10  -1  -6   8   8   9]\n",
      " [  1   5  -6   6   3   1   2   3  -6  -6]\n",
      " [  7   3   7   9 -10  -4   6  -8  -1  -4]\n",
      " [  1   4   5  -3  -5  -7   0   6  -9  -5]\n",
      " [ -7  -8  -4  -4   5  -9  -3   4   5 -10]\n",
      " [ -1  -4   5  -1   1   6   2   1   4   3]\n",
      " [  8   8   3   7  -6   9  -5   7   3  -7]\n",
      " [-10   2   0  -8   6   7  -1   5   2   9]\n",
      " [  1  -7  -3   1   8   4   5   1   9   7]\n",
      " [  1   5   9   0   9   3  -9   2   3  -5]\n",
      " [  1  -4  -7  -4   2   0  -3   8  -9   7]\n",
      " [ -1  -5  -7   8   3   3   7   6   7   7]\n",
      " [ -6  -2 -10  -7  -4   0   3  -1   8  -3]\n",
      " [ -8  -3   7  -6   9   0  -2   8   1  -6]\n",
      " [  5   2  -5   5   7   6   1 -10  -4   3]\n",
      " [  7 -10   9  -1   4   0  -7   4   5   4]\n",
      " [  6   0   7   5   4   0   2   7  -3  -2]\n",
      " [  0   6 -10   0  -4  -3   8  -7  -7   8]\n",
      " [ -2   6   7 -10   3  -7  -1   3  -4   1]\n",
      " [  5  -6   0  -7   2  -3  -4   0   0   6]]\n"
     ]
    }
   ],
   "source": [
    "array=np.random.randint(-10 , 10 ,size=1000 , dtype=int).reshape(100 , 10)\n",
    "print(array)\n",
    "np.savetxt('Ex_data.csv' , array , delimiter=',')"
   ]
  },
  {
   "cell_type": "code",
   "execution_count": null,
   "metadata": {},
   "outputs": [],
   "source": []
  }
 ],
 "metadata": {
  "kernelspec": {
   "display_name": "Python 3",
   "language": "python",
   "name": "python3"
  },
  "language_info": {
   "codemirror_mode": {
    "name": "ipython",
    "version": 3
   },
   "file_extension": ".py",
   "mimetype": "text/x-python",
   "name": "python",
   "nbconvert_exporter": "python",
   "pygments_lexer": "ipython3",
   "version": "3.12.3"
  }
 },
 "nbformat": 4,
 "nbformat_minor": 2
}
